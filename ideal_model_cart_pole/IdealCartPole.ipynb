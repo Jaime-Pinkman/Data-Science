{
 "cells": [
  {
   "cell_type": "markdown",
   "metadata": {},
   "source": [
    "## Let's start with downloading necessary libraries"
   ]
  },
  {
   "cell_type": "markdown",
   "metadata": {},
   "source": [
    "import gym\n",
    "from gym import wrappers\n",
    "\n",
    "from numpy import *\n",
    "from numpy.random import uniform, normal\n",
    "from numpy.linalg import norm\n",
    "\n",
    "from random import shuffle\n",
    "from collections import deque\n",
    "from statistics import mean"
   ]
  },
  {
   "cell_type": "code",
   "execution_count": 6,
   "metadata": {},
   "outputs": [],
   "source": [
    "env = gym.make('CartPole-v1')"
   ]
  },
  {
   "cell_type": "markdown",
   "metadata": {},
   "source": [
    "## Declare global variables"
   ]
  },
  {
   "cell_type": "code",
   "execution_count": 7,
   "metadata": {},
   "outputs": [],
   "source": [
    "alpha = 2.0e-1           # the 'learning rate'\n",
    "maxEpisodes = 1000       # run the agent for 'maxEpisodes'\n",
    "maxTimeSteps = 500       # maximum number of steps per episode\n",
    "fixedNorm = 0.5          # output weights are scaled to have morm = 'fixedform'\n",
    "maxHistory = 5000        # maximum number of recent observations for replay\n",
    "solvedEpisodes = 100     # cartpole is solved when average reward > 195 for 'solvedEpisodes'\n",
    "episodeLength = 500      # the target for CartPole-v1"
   ]
  },
  {
   "cell_type": "markdown",
   "metadata": {},
   "source": [
    "### Observations Transform"
   ]
  },
  {
   "cell_type": "code",
   "execution_count": 8,
   "metadata": {},
   "outputs": [],
   "source": [
    "inputLength = 4        # length of an observation vector\n",
    "expansionFactor = 30   # expand observation dimensions by 'expansionFactor'\n",
    "expandedLength = expansionFactor*inputLength # length of transformed observations"
   ]
  },
  {
   "cell_type": "markdown",
   "metadata": {},
   "source": [
    "### Feature transform with fixed random weights"
   ]
  },
  {
   "cell_type": "code",
   "execution_count": 10,
   "metadata": {},
   "outputs": [],
   "source": [
    "V = normal(scale=1.0, size=(expandedLength, inputLength))"
   ]
  },
  {
   "cell_type": "markdown",
   "metadata": {},
   "source": [
    "### Output weights, randomly initialized"
   ]
  },
  {
   "cell_type": "code",
   "execution_count": 12,
   "metadata": {},
   "outputs": [],
   "source": [
    "W = uniform(low=-1.0, high=1.0, size=expandedLength)"
   ]
  },
  {
   "cell_type": "markdown",
   "metadata": {},
   "source": [
    "#### Fix the norm of the output weights to 'fixedNorm'"
   ]
  },
  {
   "cell_type": "code",
   "execution_count": 13,
   "metadata": {},
   "outputs": [],
   "source": [
    "W *= fixedNorm/norm(W)"
   ]
  },
  {
   "cell_type": "code",
   "execution_count": null,
   "metadata": {},
   "outputs": [],
   "source": []
  }
 ],
 "metadata": {
  "kernelspec": {
   "display_name": "Python 3",
   "language": "python",
   "name": "python3"
  },
  "language_info": {
   "codemirror_mode": {
    "name": "ipython",
    "version": 3
   },
   "file_extension": ".py",
   "mimetype": "text/x-python",
   "name": "python",
   "nbconvert_exporter": "python",
   "pygments_lexer": "ipython3",
   "version": "3.8.2"
  }
 },
 "nbformat": 4,
 "nbformat_minor": 4
}
