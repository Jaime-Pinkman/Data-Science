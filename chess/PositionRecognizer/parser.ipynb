{
 "cells": [
  {
   "cell_type": "code",
   "execution_count": 1,
   "metadata": {},
   "outputs": [],
   "source": [
    "import re\n",
    "import requests\n",
    "from bs4 import BeautifulSoup\n",
    "\n",
    "site = 'https://www.chess.com/settings/board'\n",
    "\n",
    "response = requests.get(site)\n",
    "\n",
    "soup = BeautifulSoup(response.text, 'html.parser')\n",
    "img_tags = soup.find_all('img')\n",
    "\n",
    "urls = [img['src'] for img in img_tags]\n",
    "\n",
    "\n",
    "for url in urls:\n",
    "    filename = re.search(r'/([\\w_-]+[.](jpg|gif|png))$', url)\n",
    "    if not filename:\n",
    "         print(\"Regex didn't match with the url: {}\".format(url))\n",
    "         continue\n",
    "    with open(filename.group(1), 'wb') as f:\n",
    "        if 'http' not in url:\n",
    "            # sometimes an image source can be relative \n",
    "            # if it is provide the base url which also happens \n",
    "            # to be the site variable atm. \n",
    "            url = '{}{}'.format(site, url)\n",
    "        response = requests.get(url)\n",
    "        f.write(response.content)"
   ]
  },
  {
   "cell_type": "code",
   "execution_count": 8,
   "metadata": {},
   "outputs": [
    {
     "ename": "SystemExit",
     "evalue": "[~] Invalid Response Received.",
     "output_type": "error",
     "traceback": [
      "An exception has occurred, use %tb to see the full traceback.\n",
      "\u001b[1;31mSystemExit\u001b[0m\u001b[1;31m:\u001b[0m [~] Invalid Response Received.\n"
     ]
    },
    {
     "name": "stderr",
     "output_type": "stream",
     "text": [
      "c:\\users\\talll\\appdata\\local\\programs\\python\\python38\\lib\\site-packages\\IPython\\core\\interactiveshell.py:3339: UserWarning: To exit: use 'exit', 'quit', or Ctrl-D.\n",
      "  warn(\"To exit: use 'exit', 'quit', or Ctrl-D.\", stacklevel=1)\n"
     ]
    }
   ],
   "source": [
    "import sys\n",
    "import shutil\n",
    "import threading\n",
    "from bs4 import BeautifulSoup as soup\n",
    "\n",
    "THREAD_COUNTER = 0\n",
    "THREAD_MAX     = 5\n",
    "\n",
    "def get_source( link ):\n",
    "    r = requests.get( link )\n",
    "    if r.status_code == 200:\n",
    "        return soup( r.text )\n",
    "    else:\n",
    "        sys.exit( \"[~] Invalid Response Received.\" )\n",
    "\n",
    "def filter( html ):\n",
    "    imgs = html.findAll( \"img\" )\n",
    "    if imgs:\n",
    "        return imgs\n",
    "    else:\n",
    "        sys.exit(\"[~] No images detected on the page.\")\n",
    "\n",
    "def requesthandle( link, name ):\n",
    "    global THREAD_COUNTER\n",
    "    THREAD_COUNTER += 1\n",
    "    try:\n",
    "        r = requests.get( link, stream=True )\n",
    "        if r.status_code == 200:\n",
    "            r.raw.decode_content = True\n",
    "            f = open( name, \"wb\" )\n",
    "            shutil.copyfileobj(r.raw, f)\n",
    "            f.close()\n",
    "            print(\"[*] Downloaded Image: %s\" % name)\n",
    "    except (Exception, error):\n",
    "        print(\"[~] Error Occured with %s : %s\" % (name, error))\n",
    "    THREAD_COUNTER -= 1\n",
    "\n",
    "def main():\n",
    "    html = get_source( \"https://www.chess.com/settings/board\" )\n",
    "    tags = filter( html )\n",
    "    for tag in tags:\n",
    "        src = tag.get( \"src\" )\n",
    "        if src:\n",
    "            src = re.match( r\"((?:https?:\\/\\/.*)?\\/(.*\\.(?:png|jpg)))\", src )\n",
    "            if src:\n",
    "                (link, name) = src.groups()\n",
    "                if not link.startswith(\"http\"):\n",
    "                    link = \"https://www.chess.com/settings/board\" + link\n",
    "                _t = threading.Thread( target=requesthandle, args=(link, name.split(\"/\")[-1]) )\n",
    "                _t.daemon = True\n",
    "                _t.start()\n",
    "\n",
    "                while THREAD_COUNTER >= THREAD_MAX:\n",
    "                    pass\n",
    "\n",
    "    while THREAD_COUNTER > 0:\n",
    "        pass\n",
    "\n",
    "\n",
    "if __name__ == \"__main__\":\n",
    "    main()"
   ]
  }
 ],
 "metadata": {
  "kernelspec": {
   "display_name": "Python 3",
   "language": "python",
   "name": "python3"
  },
  "language_info": {
   "codemirror_mode": {
    "name": "ipython",
    "version": 3
   },
   "file_extension": ".py",
   "mimetype": "text/x-python",
   "name": "python",
   "nbconvert_exporter": "python",
   "pygments_lexer": "ipython3",
   "version": "3.8.2"
  }
 },
 "nbformat": 4,
 "nbformat_minor": 4
}
