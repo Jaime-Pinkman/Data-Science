{
 "cells": [
  {
   "cell_type": "code",
   "execution_count": null,
   "metadata": {},
   "outputs": [],
   "source": []
  },
  {
   "cell_type": "code",
   "execution_count": 1,
   "metadata": {},
   "outputs": [],
   "source": [
    "import numpy as np\n",
    "from tensorflow.keras.models import Sequential\n",
    "from tensorflow.keras.layers import Dense, Activation, SimpleRNN\n",
    "from tensorflow.keras.utils import to_categorical, plot_model\n",
    "from tensorflow.keras.datasets import mnist"
   ]
  },
  {
   "cell_type": "code",
   "execution_count": 2,
   "metadata": {},
   "outputs": [],
   "source": [
    "# load mnist dataset\n",
    "(x_train, y_train), (x_test, y_test) = mnist.load_data()\n",
    "# compute the number of labels\n",
    "num_labels = len(np.unique(y_train))\n",
    "# convert to one-hot vector\n",
    "y_train = to_categorical(y_train)\n",
    "y_test = to_categorical(y_test)\n",
    "# resize and normalize\n",
    "image_size = x_train.shape[1]\n",
    "x_train = np.reshape(x_train,[-1, image_size, image_size])\n",
    "x_test = np.reshape(x_test,[-1, image_size, image_size])\n",
    "x_train = x_train.astype('float32') / 255\n",
    "x_test = x_test.astype('float32') / 255\n",
    "# network parameters\n",
    "input_shape = (image_size, image_size)\n",
    "batch_size = 128\n",
    "units = 256\n",
    "dropout = 0.2"
   ]
  },
  {
   "cell_type": "code",
   "execution_count": 4,
   "metadata": {},
   "outputs": [
    {
     "name": "stdout",
     "output_type": "stream",
     "text": [
      "Model: \"sequential_1\"\n",
      "_________________________________________________________________\n",
      "Layer (type)                 Output Shape              Param #   \n",
      "=================================================================\n",
      "simple_rnn_1 (SimpleRNN)     (None, 256)               72960     \n",
      "_________________________________________________________________\n",
      "dense_1 (Dense)              (None, 10)                2570      \n",
      "_________________________________________________________________\n",
      "activation_1 (Activation)    (None, 10)                0         \n",
      "=================================================================\n",
      "Total params: 75,530\n",
      "Trainable params: 75,530\n",
      "Non-trainable params: 0\n",
      "_________________________________________________________________\n"
     ]
    }
   ],
   "source": [
    "# model is RNN with 256 units, input is 28-dim vector 28 timesteps\n",
    "model = Sequential()\n",
    "model.add(SimpleRNN(units=units,\n",
    " dropout=dropout,\n",
    " input_shape=input_shape))\n",
    "model.add(Dense(num_labels))\n",
    "model.add(Activation('softmax'))\n",
    "model.summary()\n",
    "# loss function for one-hot vector\n",
    "# use of sgd optimizer\n",
    "# accuracy is good metric for classification tasks"
   ]
  },
  {
   "cell_type": "code",
   "execution_count": 5,
   "metadata": {},
   "outputs": [
    {
     "name": "stdout",
     "output_type": "stream",
     "text": [
      "Epoch 1/20\n",
      "469/469 [==============================] - 13s 28ms/step - loss: 0.7546 - accuracy: 0.7779 ETA: \n",
      "Epoch 2/20\n",
      "469/469 [==============================] - 13s 27ms/step - loss: 0.3303 - accuracy: 0.9019\n",
      "Epoch 3/20\n",
      "469/469 [==============================] - 13s 28ms/step - loss: 0.2460 - accuracy: 0.92690s - loss:\n",
      "Epoch 4/20\n",
      "469/469 [==============================] - 13s 27ms/step - loss: 0.2032 - accuracy: 0.9391\n",
      "Epoch 5/20\n",
      "469/469 [==============================] - 13s 28ms/step - loss: 0.1799 - accuracy: 0.9468\n",
      "Epoch 6/20\n",
      "469/469 [==============================] - 13s 28ms/step - loss: 0.1578 - accuracy: 0.9531\n",
      "Epoch 7/20\n",
      "469/469 [==============================] - 13s 28ms/step - loss: 0.1470 - accuracy: 0.9563\n",
      "Epoch 8/20\n",
      "469/469 [==============================] - 13s 28ms/step - loss: 0.1345 - accuracy: 0.9591\n",
      "Epoch 9/20\n",
      "469/469 [==============================] - 13s 28ms/step - loss: 0.1251 - accuracy: 0.9622\n",
      "Epoch 10/20\n",
      "469/469 [==============================] - 13s 28ms/step - loss: 0.1189 - accuracy: 0.9640\n",
      "Epoch 11/20\n",
      "469/469 [==============================] - 13s 28ms/step - loss: 0.1119 - accuracy: 0.9669\n",
      "Epoch 12/20\n",
      "469/469 [==============================] - 13s 28ms/step - loss: 0.1071 - accuracy: 0.9675\n",
      "Epoch 13/20\n",
      "469/469 [==============================] - 12s 27ms/step - loss: 0.1008 - accuracy: 0.96910s - loss: 0.1004 \n",
      "Epoch 14/20\n",
      "469/469 [==============================] - 13s 27ms/step - loss: 0.0972 - accuracy: 0.9704\n",
      "Epoch 15/20\n",
      "469/469 [==============================] - 13s 27ms/step - loss: 0.0962 - accuracy: 0.9713\n",
      "Epoch 16/20\n",
      "469/469 [==============================] - 13s 27ms/step - loss: 0.0883 - accuracy: 0.9726\n",
      "Epoch 17/20\n",
      "469/469 [==============================] - 13s 28ms/step - loss: 0.0855 - accuracy: 0.9744\n",
      "Epoch 18/20\n",
      "469/469 [==============================] - 13s 28ms/step - loss: 0.0840 - accuracy: 0.9736\n",
      "Epoch 19/20\n",
      "469/469 [==============================] - 13s 29ms/step - loss: 0.0813 - accuracy: 0.9758\n",
      "Epoch 20/20\n",
      "469/469 [==============================] - 13s 27ms/step - loss: 0.0781 - accuracy: 0.9762\n",
      "\n",
      "Test accuracy: 97.4%\n"
     ]
    }
   ],
   "source": [
    "model.compile(loss='categorical_crossentropy',\n",
    " optimizer='sgd',\n",
    " metrics=['accuracy'])\n",
    "# train the network\n",
    "model.fit(x_train, y_train, epochs=20, batch_size=batch_size)\n",
    "_, acc = model.evaluate(x_test,\n",
    " y_test,\n",
    " batch_size=batch_size,\n",
    " verbose=0)\n",
    "print(\"\\nTest accuracy: %.1f%%\" % (100.0 * acc))"
   ]
  },
  {
   "cell_type": "code",
   "execution_count": null,
   "metadata": {},
   "outputs": [],
   "source": []
  }
 ],
 "metadata": {
  "kernelspec": {
   "display_name": "Python 3",
   "language": "python",
   "name": "python3"
  },
  "language_info": {
   "codemirror_mode": {
    "name": "ipython",
    "version": 3
   },
   "file_extension": ".py",
   "mimetype": "text/x-python",
   "name": "python",
   "nbconvert_exporter": "python",
   "pygments_lexer": "ipython3",
   "version": "3.8.2"
  }
 },
 "nbformat": 4,
 "nbformat_minor": 4
}
