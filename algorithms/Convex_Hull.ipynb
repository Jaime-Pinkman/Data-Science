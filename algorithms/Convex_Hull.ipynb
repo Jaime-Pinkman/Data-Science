{
 "cells": [
  {
   "cell_type": "code",
   "execution_count": null,
   "metadata": {},
   "outputs": [],
   "source": []
  },
  {
   "cell_type": "code",
   "execution_count": 3,
   "metadata": {},
   "outputs": [],
   "source": [
    "from random import randint\n",
    "from random import shuffle\n",
    "from numpy import random\n",
    "import matplotlib.pyplot as plt\n",
    "import time"
   ]
  },
  {
   "cell_type": "code",
   "execution_count": 4,
   "metadata": {},
   "outputs": [],
   "source": [
    "def pick_next(points, stack):\n",
    "    for i in points:\n",
    "        flag = True\n",
    "        for j in range(0, len(stack)):\n",
    "            if i == stack[j]:\n",
    "                flag = False\n",
    "        if flag:\n",
    "            return i\n",
    "        else:\n",
    "            stack[0]"
   ]
  },
  {
   "cell_type": "code",
   "execution_count": 5,
   "metadata": {},
   "outputs": [],
   "source": [
    "def check_if_in_stack(point, stack):\n",
    "    for i in range(1, len(stack)):\n",
    "        if stack[i] == point:\n",
    "            return True\n",
    "    return False"
   ]
  },
  {
   "cell_type": "code",
   "execution_count": 6,
   "metadata": {},
   "outputs": [],
   "source": [
    "def angle(a, b, c):\n",
    "    return ((b[0] - a[0]) * (c[1] - a[1])) - ((c[0] - a[0]) * (b[1] - a[1]))"
   ]
  },
  {
   "cell_type": "code",
   "execution_count": 7,
   "metadata": {},
   "outputs": [],
   "source": [
    "def convex_hull_jarvis(points):\n",
    "    point = points[0]\n",
    "    stack = []\n",
    "    for i in points:\n",
    "        if i < point:\n",
    "            point = i        \n",
    "    back_point = points[0]      \n",
    "    for i in points:\n",
    "        if i > back_point:\n",
    "            back_point = i\n",
    "    stack.append(point)\n",
    "    if point == back_point:\n",
    "        return stack\n",
    "    next_point = pick_next(points, stack)\n",
    "    flag = False\n",
    "    while True:\n",
    "        if point == back_point:\n",
    "            flag = True\n",
    "        linear = []\n",
    "        for p in points:\n",
    "            if not check_if_in_stack(p, stack) and p != next_point:\n",
    "                if angle(point, next_point, p) == 0 and p != stack[0]:\n",
    "                    linear.append(p)\n",
    "                if angle(point, next_point, p) > 0:\n",
    "                    linear = []\n",
    "                    next_point = p\n",
    "        if next_point == stack[0]:\n",
    "            if linear:\n",
    "                linear.sort(reverse=flag)\n",
    "                for lin in linear:\n",
    "                    stack.append(lin)\n",
    "            break\n",
    "        if linear:\n",
    "            linear.append(next_point)\n",
    "            linear.sort(reverse=flag)\n",
    "            for lin in linear:\n",
    "                stack.append(lin)\n",
    "            point = stack[len(stack)-1]\n",
    "        else:\n",
    "            stack.append(next_point)\n",
    "            point = next_point\n",
    "        next_point = pick_next(points, stack)\n",
    "        if next_point == None:\n",
    "            break\n",
    "    return stack"
   ]
  },
  {
   "cell_type": "code",
   "execution_count": 8,
   "metadata": {},
   "outputs": [],
   "source": [
    "def convex_show_normal(number_of_points, distribution_of_X, distribution_of_Y):\n",
    "    points = []\n",
    "    for i in range(number_of_points):\n",
    "        points.append((round(distribution_of_X*(random.normal(size=1)[0])), round(distribution_of_Y*random.normal(size=1)[0])))\n",
    "    start_time = time.time()\n",
    "    convex_hull = convex_hull_jarvis(points)\n",
    "    print(\"--- %s seconds ---\" % (time.time() - start_time))\n",
    "    hull_x = [p[0] for p in convex_hull]\n",
    "    hull_y = [p[1] for p in convex_hull]\n",
    "    x = [p[0] for p in points]\n",
    "    y = [p[1] for p in points]\n",
    "    plt.scatter(x, y)\n",
    "    plt.scatter(hull_x, hull_y)\n",
    "    hull_x.append(convex_hull[0][0])\n",
    "    hull_y.append(convex_hull[0][1])\n",
    "    plt.plot(hull_x, hull_y, '-r')\n",
    "    plt.show()"
   ]
  },
  {
   "cell_type": "code",
   "execution_count": 9,
   "metadata": {},
   "outputs": [
    {
     "name": "stdout",
     "output_type": "stream",
     "text": [
      "--- 0.046973228454589844 seconds ---\n"
     ]
    },
    {
     "data": {
      "image/png": "[encoded data removed]",
      "text/plain": [
       "<Figure size 432x288 with 1 Axes>"
      ]
     },
     "metadata": {
      "needs_background": "light"
     },
     "output_type": "display_data"
    }
   ],
   "source": [
    "convex_show_normal(1000, 1000, 1000)"
   ]
  },
  {
   "cell_type": "markdown",
   "metadata": {},
   "source": [
    "## Normal (1000000, 1000000, 1000000) = --- 57.71201539039612 seconds ---\n",
    "## Normal (100000, 100000, 100000) = --- 5.642762184143066 seconds ---\n",
    "## Normal (10000, 10000, 10000) = --- 0.442746639251709 seconds ---\n",
    "## Normal (1000, 1000, 1000) = --- 0.04197549819946289 seconds ---\n",
    "## Normal (100, 100, 100) = --- 0.00299835205078125 seconds ---"
   ]
  },
  {
   "cell_type": "code",
   "execution_count": 15,
   "metadata": {},
   "outputs": [],
   "source": [
    "def convex_show_random(number_of_points, distribution_of_X, distribution_of_Y):\n",
    "    points = []\n",
    "    for i in range(number_of_points):\n",
    "        points.append((randint(0, distribution_of_X), (randint(0, distribution_of_Y))))\n",
    "    start_time = time.time()\n",
    "    convex_hull = convex_hull_jarvis(points)\n",
    "    print(\"--- %s seconds ---\" % (time.time() - start_time))\n",
    "    hull_x = [p[0] for p in convex_hull]\n",
    "    hull_y = [p[1] for p in convex_hull]\n",
    "    x = [p[0] for p in points]\n",
    "    y = [p[1] for p in points]\n",
    "    plt.scatter(x, y)\n",
    "    plt.scatter(hull_x, hull_y)\n",
    "    hull_x.append(convex_hull[0][0])\n",
    "    hull_y.append(convex_hull[0][1])\n",
    "    plt.plot(hull_x, hull_y, '-r')\n",
    "    plt.show()\n",
    "    print(len(convex_hull)/len(points))\n",
    "    print(len(convex_hull))"
   ]
  },
  {
   "cell_type": "code",
   "execution_count": 23,
   "metadata": {},
   "outputs": [
    {
     "name": "stdout",
     "output_type": "stream",
     "text": [
      "--- 0.053968191146850586 seconds ---\n"
     ]
    },
    {
     "data": {
      "image/png": "[encoded data removed]",
      "text/plain": [
       "<Figure size 432x288 with 1 Axes>"
      ]
     },
     "metadata": {
      "needs_background": "light"
     },
     "output_type": "display_data"
    },
    {
     "name": "stdout",
     "output_type": "stream",
     "text": [
      "0.29\n",
      "290\n"
     ]
    }
   ],
   "source": [
    "convex_show_random(1000, 10, 10)"
   ]
  },
  {
   "cell_type": "markdown",
   "metadata": {},
   "source": [
    "## Random (100, 100, 100) = --- 0.0019986629486083984 seconds ---\n",
    "## Random (1000, 1000, 1000) = --- 0.034980058670043945 seconds ---\n",
    "## Random (10000, 10000, 10000) = --- 0.7376971244812012 seconds ---\n",
    "## Random (100000, 100000, 100000) = --- 8.098390102386475 seconds ---\n",
    "## Random (1000000, 1000000, 1000000) = --- 97.797123670578 seconds ---"
   ]
  },
  {
   "cell_type": "code",
   "execution_count": 365,
   "metadata": {},
   "outputs": [
    {
     "data": {
      "text/plain": [
       "[<matplotlib.lines.Line2D at 0x1965eb307f0>]"
      ]
     },
     "execution_count": 365,
     "metadata": {},
     "output_type": "execute_result"
    },
    {
     "data": {
      "image/png": "[encoded data removed]",
      "text/plain": [
       "<Figure size 432x288 with 1 Axes>"
      ]
     },
     "metadata": {
      "needs_background": "light"
     },
     "output_type": "display_data"
    }
   ],
   "source": [
    "plt.plot([10000, 100000, 1000000], [0.7376971244812012, 8.098390102386475, 97.797123670578])"
   ]
  },
  {
   "cell_type": "code",
   "execution_count": 441,
   "metadata": {},
   "outputs": [],
   "source": [
    "def convex_show_circle(number_of_points, distribution):\n",
    "    points = []\n",
    "    points = PointsInCircum(distribution, number_of_points)\n",
    "        #points.append((round(distribution_of_X*(random.normal(size=1)[0])), round(distribution_of_Y*random.normal(size=1)[0])))\n",
    "    start_time = time.time()\n",
    "    convex_hull = convex_hull_jarvis(points)\n",
    "    print(\"--- %s seconds ---\" % (time.time() - start_time))\n",
    "    hull_x = [p[0] for p in convex_hull]\n",
    "    hull_y = [p[1] for p in convex_hull]\n",
    "    x = [p[0] for p in points]\n",
    "    y = [p[1] for p in points]\n",
    "    plt.scatter(x, y)\n",
    "    plt.scatter(hull_x, hull_y)\n",
    "    hull_x.append(convex_hull[0][0])\n",
    "    hull_y.append(convex_hull[0][1])\n",
    "    plt.plot(hull_x, hull_y, '-r')\n",
    "    plt.show()"
   ]
  },
  {
   "cell_type": "code",
   "execution_count": 452,
   "metadata": {},
   "outputs": [
    {
     "name": "stdout",
     "output_type": "stream",
     "text": [
      "--- 144.5973699092865 seconds ---\n"
     ]
    },
    {
     "data": {
      "image/png": "[encoded data removed]",
      "text/plain": [
       "<Figure size 432x288 with 1 Axes>"
      ]
     },
     "metadata": {
      "needs_background": "light"
     },
     "output_type": "display_data"
    }
   ],
   "source": [
    "convex_show_circle(1600, 1600)"
   ]
  },
  {
   "cell_type": "markdown",
   "metadata": {},
   "source": [
    "## Circle\n",
    "## Circle (100, 100) = --- 0.04496026039123535 seconds ---\n",
    "## Circle (300, 300) = --- 0.931466817855835 seconds ---\n",
    "## Circle (600, 600) = --- 7.6496968269348145 seconds ---\n",
    "## Circle (1000, 1000) = --- 34.161519289016724 seconds ---\n",
    "## Circle (1250, 1250) = --- 69.34712815284729 seconds ---\n",
    "## Circle (1400, 1400) = --- 97.1706166267395 seconds ---\n",
    "## Circle (1600, 1600) = --- 144.5973699092865 seconds ---"
   ]
  },
  {
   "cell_type": "code",
   "execution_count": 453,
   "metadata": {},
   "outputs": [
    {
     "data": {
      "text/plain": [
       "[<matplotlib.lines.Line2D at 0x19644fba100>]"
      ]
     },
     "execution_count": 453,
     "metadata": {},
     "output_type": "execute_result"
    },
    {
     "data": {
      "image/png": "[encoded data removed]",
      "text/plain": [
       "<Figure size 432x288 with 1 Axes>"
      ]
     },
     "metadata": {
      "needs_background": "light"
     },
     "output_type": "display_data"
    }
   ],
   "source": [
    "plt.plot([100, 300, 600, 1000, 1250, 1400, 1600], [0.04496026039123535, 0.931466817855835, 7.6496968269348145, 34.161519289016724, 69.34712815284729, 97.1706166267395, 144.5973699092865])"
   ]
  },
  {
   "cell_type": "code",
   "execution_count": 461,
   "metadata": {},
   "outputs": [
    {
     "data": {
      "text/plain": [
       "array([0.62709169])"
      ]
     },
     "execution_count": 461,
     "metadata": {},
     "output_type": "execute_result"
    }
   ],
   "source": [
    "from sklearn.linear_model import LinearRegression\n",
    "X = [[600*600], [1000*1000], [1400*1400], [1600*1600]]\n",
    "y = [76496.968269348145, 341615.19289016724, 971706.166267395, 1445973.699092865]\n",
    "reg = LinearRegression().fit(X, y)\n",
    "reg.coef_"
   ]
  },
  {
   "cell_type": "code",
   "execution_count": 370,
   "metadata": {},
   "outputs": [],
   "source": [
    "import math\n",
    "pi = math.pi\n",
    "\n",
    "def PointsInCircum(r,n=10):\n",
    "    return [(math.cos(2*pi/n*x)*r,math.sin(2*pi/n*x)*r) for x in range(0,n+1)]"
   ]
  },
  {
   "cell_type": "code",
   "execution_count": 437,
   "metadata": {},
   "outputs": [
    {
     "data": {
      "text/plain": [
       "[(10.0, 0.0),\n",
       " (8.090169943749475, 5.877852522924732),\n",
       " (3.0901699437494745, 9.510565162951535),\n",
       " (-3.0901699437494736, 9.510565162951536),\n",
       " (-8.090169943749473, 5.877852522924733),\n",
       " (-10.0, 1.2246467991473533e-15),\n",
       " (-8.090169943749475, -5.87785252292473),\n",
       " (-3.0901699437494754, -9.510565162951535),\n",
       " (3.0901699437494723, -9.510565162951536),\n",
       " (8.090169943749473, -5.877852522924734),\n",
       " (10.0, -2.4492935982947065e-15)]"
      ]
     },
     "execution_count": 437,
     "metadata": {},
     "output_type": "execute_result"
    }
   ],
   "source": [
    "PointsInCircum(10, 10)"
   ]
  },
  {
   "cell_type": "code",
   "execution_count": 434,
   "metadata": {},
   "outputs": [
    {
     "name": "stdout",
     "output_type": "stream",
     "text": [
      "(100.0, -2.4492935982947064e-14)\n",
      "(100.0, -2.4492935982947064e-14)\n",
      "(100.0, -2.4492935982947064e-14)\n",
      "(100.0, -2.4492935982947064e-14)\n",
      "(100.0, -2.4492935982947064e-14)\n",
      "(100.0, -2.4492935982947064e-14)\n",
      "(100.0, -2.4492935982947064e-14)\n",
      "(100.0, -2.4492935982947064e-14)\n",
      "(100.0, -2.4492935982947064e-14)\n",
      "(100.0, -2.4492935982947064e-14)\n"
     ]
    }
   ],
   "source": [
    "for i in range(10):\n",
    "        print((PointsInCircum(100, 1)[1]))"
   ]
  },
  {
   "cell_type": "code",
   "execution_count": 84,
   "metadata": {},
   "outputs": [],
   "source": [
    "points = []\n",
    "for i in range(40):\n",
    "    points.append((randint(0, 8), randint(0, 8)))"
   ]
  },
  {
   "cell_type": "code",
   "execution_count": 1,
   "metadata": {},
   "outputs": [
    {
     "ename": "NameError",
     "evalue": "name 'convex_hull_jarvis' is not defined",
     "output_type": "error",
     "traceback": [
      "\u001b[1;31m---------------------------------------------------------------------------\u001b[0m",
      "\u001b[1;31mNameError\u001b[0m                                 Traceback (most recent call last)",
      "\u001b[1;32m<ipython-input-1-f5a42e4048f2>\u001b[0m in \u001b[0;36m<module>\u001b[1;34m\u001b[0m\n\u001b[1;32m----> 1\u001b[1;33m \u001b[0mconvex_hull\u001b[0m \u001b[1;33m=\u001b[0m \u001b[0mconvex_hull_jarvis\u001b[0m\u001b[1;33m(\u001b[0m\u001b[0mpoints\u001b[0m\u001b[1;33m)\u001b[0m\u001b[1;33m\u001b[0m\u001b[1;33m\u001b[0m\u001b[0m\n\u001b[0m",
      "\u001b[1;31mNameError\u001b[0m: name 'convex_hull_jarvis' is not defined"
     ]
    }
   ],
   "source": [
    "convex_hull = convex_hull_jarvis(points)"
   ]
  },
  {
   "cell_type": "code",
   "execution_count": 114,
   "metadata": {},
   "outputs": [
    {
     "name": "stdout",
     "output_type": "stream",
     "text": [
      "False\n"
     ]
    },
    {
     "data": {
      "text/plain": [
       "[(7, 0), (5, 0)]"
      ]
     },
     "execution_count": 114,
     "metadata": {},
     "output_type": "execute_result"
    }
   ],
   "source": [
    "print((8, 4) < (8, 0))\n",
    "(5, 0) < (7, 0)\n",
    "a = [(7, 0), (5, 0)]\n",
    "a.sort(reverse = True)\n",
    "a"
   ]
  },
  {
   "cell_type": "code",
   "execution_count": 124,
   "metadata": {},
   "outputs": [],
   "source": [
    "hull_x = [p[0] for p in convex_hull]\n",
    "hull_y = [p[1] for p in convex_hull]\n",
    "x = [p[0] for p in points]\n",
    "y = [p[1] for p in points]"
   ]
  },
  {
   "cell_type": "code",
   "execution_count": 125,
   "metadata": {},
   "outputs": [
    {
     "data": {
      "image/png": "[encoded data removed]",
      "text/plain": [
       "<Figure size 432x288 with 1 Axes>"
      ]
     },
     "metadata": {
      "needs_background": "light"
     },
     "output_type": "display_data"
    }
   ],
   "source": [
    "plt.scatter(x, y)\n",
    "plt.scatter(hull_x, hull_y)\n",
    "hull_x.append(convex_hull[0][0])\n",
    "hull_y.append(convex_hull[0][1])\n",
    "plt.plot(hull_x, hull_y, '-r')\n",
    "plt.show()"
   ]
  }
 ],
 "metadata": {
  "kernelspec": {
   "display_name": "Python 3",
   "language": "python",
   "name": "python3"
  },
  "language_info": {
   "codemirror_mode": {
    "name": "ipython",
    "version": 3
   },
   "file_extension": ".py",
   "mimetype": "text/x-python",
   "name": "python",
   "nbconvert_exporter": "python",
   "pygments_lexer": "ipython3",
   "version": "3.8.2"
  }
 },
 "nbformat": 4,
 "nbformat_minor": 4
}
