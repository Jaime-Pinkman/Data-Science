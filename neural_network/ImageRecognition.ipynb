{
 "cells": [
  {
   "cell_type": "markdown",
   "metadata": {},
   "source": [
    "# Full Implementation of Neural Network"
   ]
  },
  {
   "cell_type": "markdown",
   "metadata": {},
   "source": [
    "#### Import Libraries"
   ]
  },
  {
   "cell_type": "code",
   "execution_count": 16,
   "metadata": {},
   "outputs": [],
   "source": [
    "import scipy.io\n",
    "import numpy as np\n",
    "from scipy.optimize import fmin_cg\n",
    "import pickle"
   ]
  },
  {
   "cell_type": "markdown",
   "metadata": {},
   "source": [
    "#### Load weights to verify cost function"
   ]
  },
  {
   "cell_type": "code",
   "execution_count": 4,
   "metadata": {},
   "outputs": [],
   "source": [
    "mat = scipy.io.loadmat('ex4weights.mat')"
   ]
  },
  {
   "cell_type": "markdown",
   "metadata": {},
   "source": [
    "#### Retrieving parameters for the input and hidden layers"
   ]
  },
  {
   "cell_type": "code",
   "execution_count": 5,
   "metadata": {},
   "outputs": [],
   "source": [
    "Theta1 = mat['Theta1']\n",
    "Theta2 = mat['Theta2']"
   ]
  },
  {
   "cell_type": "markdown",
   "metadata": {},
   "source": [
    "### Loading the DataSet"
   ]
  },
  {
   "cell_type": "code",
   "execution_count": 6,
   "metadata": {},
   "outputs": [],
   "source": [
    "data = scipy.io.loadmat('ex4data1.mat')"
   ]
  },
  {
   "cell_type": "markdown",
   "metadata": {},
   "source": [
    "#### Getting X and y matrices"
   ]
  },
  {
   "cell_type": "code",
   "execution_count": 75,
   "metadata": {},
   "outputs": [],
   "source": [
    "X = data['X']\n",
    "y = data['y']\n",
    "\n",
    "# Shuffle them in random order (only rows)\n",
    "# to make model more flexible\n",
    "\n",
    "np.random.shuffle(X)\n",
    "np.random.shuffle(y)"
   ]
  },
  {
   "cell_type": "markdown",
   "metadata": {},
   "source": [
    "### Splitting the dataset to train_set and test_set"
   ]
  },
  {
   "cell_type": "code",
   "execution_count": 101,
   "metadata": {},
   "outputs": [],
   "source": [
    "m_train = 4900\n",
    "m_test = 100\n",
    "\n",
    "X_train = X[0:4900]\n",
    "y_train = y[0:4900]\n",
    "\n",
    "X_test = X[4900:]\n",
    "y_test = y[4900:]"
   ]
  },
  {
   "cell_type": "markdown",
   "metadata": {},
   "source": [
    "### Unroll parameters"
   ]
  },
  {
   "cell_type": "code",
   "execution_count": 7,
   "metadata": {},
   "outputs": [
    {
     "name": "stdout",
     "output_type": "stream",
     "text": [
      "(25, 401) 10025\n",
      "(10, 26) 260\n"
     ]
    }
   ],
   "source": [
    "print(np.shape(Theta1), 25*401)\n",
    "print(np.shape(Theta2), 10*26)"
   ]
  },
  {
   "cell_type": "code",
   "execution_count": 8,
   "metadata": {},
   "outputs": [
    {
     "data": {
      "text/plain": [
       "(10285,)"
      ]
     },
     "execution_count": 8,
     "metadata": {},
     "output_type": "execute_result"
    }
   ],
   "source": [
    "nn_params = np.concatenate([Theta1.flatten(), Theta2.flatten()])\n",
    "np.shape(nn_params)"
   ]
  },
  {
   "cell_type": "markdown",
   "metadata": {},
   "source": [
    "### Rollback"
   ]
  },
  {
   "cell_type": "code",
   "execution_count": 9,
   "metadata": {},
   "outputs": [],
   "source": [
    "Theta1 = np.reshape(nn_params[0:10025], (-1, 401))\n",
    "Theta2 = np.reshape(nn_params[10025:10285], (-1, 26))"
   ]
  },
  {
   "cell_type": "markdown",
   "metadata": {},
   "source": [
    "#### Setup some useful variables"
   ]
  },
  {
   "cell_type": "code",
   "execution_count": 356,
   "metadata": {},
   "outputs": [
    {
     "data": {
      "text/plain": [
       "400"
      ]
     },
     "execution_count": 356,
     "metadata": {},
     "output_type": "execute_result"
    }
   ],
   "source": [
    "m = np.shape(X)[0] # number of  examples\n",
    "n = np.shape(X)[1] # number of features\n",
    "k = 10 # number of labels\n",
    "J = 0 # Cost function value"
   ]
  },
  {
   "cell_type": "markdown",
   "metadata": {},
   "source": [
    "## Implementing the cost function"
   ]
  },
  {
   "cell_type": "markdown",
   "metadata": {},
   "source": [
    "#### Converting y( y(i) -> 1:10) to Y( Y(i) -> 0, 1)"
   ]
  },
  {
   "cell_type": "code",
   "execution_count": 11,
   "metadata": {},
   "outputs": [],
   "source": [
    "# Y = matrix of where each row(i) \n",
    "# represents corresponding X(i) example\n",
    "# and each column correlates to output's classes\n",
    "y[y == 0] = 10\n",
    "\n",
    "Y = np.zeros([m, k])\n",
    "for i in range(m):\n",
    "    j = y[i]\n",
    "    Y[i, j-1] = 1"
   ]
  },
  {
   "cell_type": "markdown",
   "metadata": {},
   "source": [
    "#### Implementing sigmoid function"
   ]
  },
  {
   "cell_type": "code",
   "execution_count": 24,
   "metadata": {},
   "outputs": [],
   "source": [
    "def sigmoid(z):\n",
    "    #return 1.0 / (1.0 + np.exp(-z))\n",
    "    return np.divide(1.0, (np.add(1.0, np.exp(np.negative(z)))))"
   ]
  },
  {
   "cell_type": "markdown",
   "metadata": {},
   "source": [
    "## Implementing Forward Propagation"
   ]
  },
  {
   "cell_type": "code",
   "execution_count": 49,
   "metadata": {
    "collapsed": true,
    "jupyter": {
     "outputs_hidden": true
    }
   },
   "outputs": [
    {
     "ename": "NameError",
     "evalue": "name 'Y' is not defined",
     "output_type": "error",
     "traceback": [
      "\u001b[1;31m---------------------------------------------------------------------------\u001b[0m",
      "\u001b[1;31mNameError\u001b[0m                                 Traceback (most recent call last)",
      "\u001b[1;32m<ipython-input-49-2fa504046c37>\u001b[0m in \u001b[0;36m<module>\u001b[1;34m\u001b[0m\n\u001b[0;32m     14\u001b[0m \u001b[1;33m\u001b[0m\u001b[0m\n\u001b[0;32m     15\u001b[0m \u001b[1;31m# The cost function value:\u001b[0m\u001b[1;33m\u001b[0m\u001b[1;33m\u001b[0m\u001b[1;33m\u001b[0m\u001b[0m\n\u001b[1;32m---> 16\u001b[1;33m \u001b[0mlogErrors\u001b[0m \u001b[1;33m=\u001b[0m \u001b[0mnp\u001b[0m\u001b[1;33m.\u001b[0m\u001b[0mmultiply\u001b[0m\u001b[1;33m(\u001b[0m\u001b[0mY\u001b[0m\u001b[1;33m,\u001b[0m \u001b[0mnp\u001b[0m\u001b[1;33m.\u001b[0m\u001b[0mlog\u001b[0m\u001b[1;33m(\u001b[0m\u001b[0mz3\u001b[0m\u001b[1;33m)\u001b[0m\u001b[1;33m)\u001b[0m \u001b[1;33m+\u001b[0m \u001b[0mnp\u001b[0m\u001b[1;33m.\u001b[0m\u001b[0mmultiply\u001b[0m\u001b[1;33m(\u001b[0m\u001b[0mnp\u001b[0m\u001b[1;33m.\u001b[0m\u001b[0msubtract\u001b[0m\u001b[1;33m(\u001b[0m\u001b[1;36m1\u001b[0m\u001b[1;33m,\u001b[0m \u001b[0mY\u001b[0m\u001b[1;33m)\u001b[0m\u001b[1;33m,\u001b[0m \u001b[0mnp\u001b[0m\u001b[1;33m.\u001b[0m\u001b[0mlog\u001b[0m\u001b[1;33m(\u001b[0m\u001b[0mnp\u001b[0m\u001b[1;33m.\u001b[0m\u001b[0msubtract\u001b[0m\u001b[1;33m(\u001b[0m\u001b[1;36m1\u001b[0m\u001b[1;33m,\u001b[0m \u001b[0mz3\u001b[0m\u001b[1;33m)\u001b[0m\u001b[1;33m)\u001b[0m\u001b[1;33m)\u001b[0m\u001b[1;33m\u001b[0m\u001b[1;33m\u001b[0m\u001b[0m\n\u001b[0m\u001b[0;32m     17\u001b[0m \u001b[0mJ\u001b[0m \u001b[1;33m=\u001b[0m \u001b[1;33m-\u001b[0m\u001b[1;36m1\u001b[0m\u001b[1;33m/\u001b[0m\u001b[0mm\u001b[0m \u001b[1;33m*\u001b[0m \u001b[0mnp\u001b[0m\u001b[1;33m.\u001b[0m\u001b[0msum\u001b[0m\u001b[1;33m(\u001b[0m\u001b[0mlogErrors\u001b[0m\u001b[1;33m)\u001b[0m\u001b[1;33m\u001b[0m\u001b[1;33m\u001b[0m\u001b[0m\n\u001b[0;32m     18\u001b[0m \u001b[1;33m\u001b[0m\u001b[0m\n",
      "\u001b[1;31mNameError\u001b[0m: name 'Y' is not defined"
     ]
    }
   ],
   "source": [
    "#predictions = sigmoid(np.ones([m, 1]), sigmoid([np.ones([])]))\n",
    "\n",
    "# Added bias feature to the input layer\n",
    "a1 = np.concatenate([np.ones([m, 1]), X], axis=1)\n",
    "\n",
    "# Activation of the hidden layer\n",
    "z2 = sigmoid(np.matmul(a1, np.transpose(Theta1)))\n",
    "      \n",
    "# Added bias feature to the hidden layer\n",
    "a2 = np.concatenate([np.ones([m, 1]), z2], axis=1)\n",
    "\n",
    "# Activation of the output layer\n",
    "z3 = sigmoid(np.matmul(a2, np.transpose(Theta2)))\n",
    "\n",
    "# The cost function value:\n",
    "logErrors = np.multiply(Y, np.log(z3)) + np.multiply(np.subtract(1, Y), np.log(np.subtract(1, z3)))\n",
    "J = -1/m * np.sum(logErrors)\n",
    "\n",
    "print(f\"The cost value without regularization is {J}\")"
   ]
  },
  {
   "cell_type": "markdown",
   "metadata": {},
   "source": [
    "### Adding the Regularization term"
   ]
  },
  {
   "cell_type": "code",
   "execution_count": 48,
   "metadata": {
    "collapsed": true,
    "jupyter": {
     "outputs_hidden": true
    }
   },
   "outputs": [
    {
     "ename": "NameError",
     "evalue": "name 'logErrors' is not defined",
     "output_type": "error",
     "traceback": [
      "\u001b[1;31m---------------------------------------------------------------------------\u001b[0m",
      "\u001b[1;31mNameError\u001b[0m                                 Traceback (most recent call last)",
      "\u001b[1;32m<ipython-input-48-28f635f9eba7>\u001b[0m in \u001b[0;36m<module>\u001b[1;34m\u001b[0m\n\u001b[0;32m      5\u001b[0m \u001b[0mreg\u001b[0m \u001b[1;33m=\u001b[0m \u001b[0mlmda\u001b[0m\u001b[1;33m/\u001b[0m\u001b[1;33m(\u001b[0m\u001b[1;36m2\u001b[0m\u001b[1;33m*\u001b[0m\u001b[0mm\u001b[0m\u001b[1;33m)\u001b[0m \u001b[1;33m*\u001b[0m \u001b[1;33m(\u001b[0m\u001b[0mnp\u001b[0m\u001b[1;33m.\u001b[0m\u001b[0msum\u001b[0m\u001b[1;33m(\u001b[0m\u001b[1;33m(\u001b[0m\u001b[0mTheta1\u001b[0m\u001b[1;33m[\u001b[0m\u001b[1;33m:\u001b[0m\u001b[1;33m,\u001b[0m \u001b[1;36m1\u001b[0m\u001b[1;33m:\u001b[0m\u001b[1;33m]\u001b[0m\u001b[1;33m**\u001b[0m\u001b[1;36m2\u001b[0m\u001b[1;33m)\u001b[0m\u001b[1;33m)\u001b[0m \u001b[1;33m+\u001b[0m \u001b[0mnp\u001b[0m\u001b[1;33m.\u001b[0m\u001b[0msum\u001b[0m\u001b[1;33m(\u001b[0m\u001b[1;33m(\u001b[0m\u001b[0mTheta2\u001b[0m\u001b[1;33m[\u001b[0m\u001b[1;33m:\u001b[0m\u001b[1;33m,\u001b[0m \u001b[1;36m1\u001b[0m\u001b[1;33m:\u001b[0m\u001b[1;33m]\u001b[0m\u001b[1;33m**\u001b[0m\u001b[1;36m2\u001b[0m\u001b[1;33m)\u001b[0m\u001b[1;33m)\u001b[0m\u001b[1;33m)\u001b[0m\u001b[1;33m\u001b[0m\u001b[1;33m\u001b[0m\u001b[0m\n\u001b[0;32m      6\u001b[0m \u001b[1;33m\u001b[0m\u001b[0m\n\u001b[1;32m----> 7\u001b[1;33m \u001b[0mJ\u001b[0m \u001b[1;33m=\u001b[0m \u001b[1;33m-\u001b[0m\u001b[1;36m1\u001b[0m\u001b[1;33m/\u001b[0m\u001b[0mm\u001b[0m \u001b[1;33m*\u001b[0m \u001b[0mnp\u001b[0m\u001b[1;33m.\u001b[0m\u001b[0msum\u001b[0m\u001b[1;33m(\u001b[0m\u001b[0mlogErrors\u001b[0m\u001b[1;33m)\u001b[0m \u001b[1;33m+\u001b[0m \u001b[0mreg\u001b[0m\u001b[1;33m\u001b[0m\u001b[1;33m\u001b[0m\u001b[0m\n\u001b[0m\u001b[0;32m      8\u001b[0m \u001b[0mprint\u001b[0m\u001b[1;33m(\u001b[0m\u001b[1;34mf\"The cost value with regularization is {J}\"\u001b[0m\u001b[1;33m)\u001b[0m\u001b[1;33m\u001b[0m\u001b[1;33m\u001b[0m\u001b[0m\n",
      "\u001b[1;31mNameError\u001b[0m: name 'logErrors' is not defined"
     ]
    }
   ],
   "source": [
    "# Choosing the lambda value\n",
    "lmda = 0.1\n",
    "\n",
    "# The reg term\n",
    "reg = lmda/(2*m) * (np.sum((Theta1[:, 1:]**2)) + np.sum((Theta2[:, 1:]**2)))\n",
    "\n",
    "J = -1/m * np.sum(logErrors) + reg\n",
    "print(f\"The cost value with regularization is {J}\")"
   ]
  },
  {
   "cell_type": "markdown",
   "metadata": {},
   "source": [
    "### Implementing the sigmoidGradient function"
   ]
  },
  {
   "cell_type": "code",
   "execution_count": 10,
   "metadata": {},
   "outputs": [],
   "source": [
    "def sigmoidGradient(z):\n",
    "    return np.multiply(sigmoid(z), np.subtract(1, sigmoid(z)))"
   ]
  },
  {
   "cell_type": "markdown",
   "metadata": {},
   "source": [
    "### Randomly initialize the parameters for symmetry breaking"
   ]
  },
  {
   "cell_type": "code",
   "execution_count": 11,
   "metadata": {},
   "outputs": [],
   "source": [
    "def randInitializeWeights(L_in, L_out):\n",
    "    epsilon_init = np.sqrt(6)/(np.sqrt(L_in + L_out))\n",
    "    return np.random.rand(L_out, 1 + L_in) * 2 * epsilon_init - epsilon_init"
   ]
  },
  {
   "cell_type": "markdown",
   "metadata": {},
   "source": [
    "## Backward Propagation"
   ]
  },
  {
   "cell_type": "code",
   "execution_count": 82,
   "metadata": {},
   "outputs": [
    {
     "data": {
      "text/plain": [
       "(10285,)"
      ]
     },
     "execution_count": 82,
     "metadata": {},
     "output_type": "execute_result"
    }
   ],
   "source": [
    "# Added bias feature to the input layer\n",
    "a1 = np.concatenate([np.ones([m, 1]), X], axis=1)\n",
    "\n",
    "# Matrix Product of a1 and Theta1\n",
    "z2 = np.matmul(a1, np.transpose(Theta1))\n",
    "\n",
    "# Activation of the hidden layer\n",
    "a2 = np.concatenate([np.ones([m, 1]), sigmoid(z2)], axis=1)\n",
    "\n",
    "# Matrix Product of a2 and Theta2\n",
    "z3 = np.matmul(a2, np.transpose(Theta2))\n",
    "\n",
    "# Activation of the output layer\n",
    "a3 = sigmoid(z3)\n",
    "\n",
    "# Error of the output layer\n",
    "d3 = np.subtract(a3, Y)\n",
    "\n",
    "# Error of the hidden layer\n",
    "d2 = np.multiply(np.matmul(d3, Theta2[:, 1:]), sigmoidGradient(z2))\n",
    "\n",
    "# Accumulate the gradient, vectorized version\n",
    "Delta1 = np.matmul(np.transpose(d2), a1)\n",
    "Delta2 = np.matmul(np.transpose(d3), a2)\n",
    "\n",
    "# Obtain the gradient by dividing the accumulated gradients by m\n",
    "Theta1_grad = np.divide(Delta1, m)\n",
    "Theta2_grad = np.divide(Delta2, m)\n",
    "\n",
    "# Add regularization to the gradient\n",
    "Theta1_grad[:, 2:] = Theta1_grad[:, 2:] + lmda/m*Theta1_grad[:, 2:]\n",
    "Theta2_grad[:, 2:] = Theta2_grad[:, 2:] + lmda/m*Theta2_grad[:, 2:]\n",
    "\n",
    "# Unrolling out gradient parameters\n",
    "grad = np.concatenate([Theta1_grad.flatten(), Theta2_grad.flatten()])"
   ]
  },
  {
   "cell_type": "markdown",
   "metadata": {},
   "source": [
    "## Function to find the cost value for scipy.optimize"
   ]
  },
  {
   "cell_type": "code",
   "execution_count": 49,
   "metadata": {},
   "outputs": [],
   "source": [
    "def costFunction(nn_params, X, y, lmda):\n",
    "    \n",
    "    X = np.reshape(X, (-1, 400))\n",
    "    \n",
    "    Theta1 = np.reshape(nn_params[0:10025], (-1, 401))\n",
    "    Theta2 = np.reshape(nn_params[10025:10285], (-1, 26))\n",
    "    \n",
    "    m = np.shape(X)[0]\n",
    "    y[y == 0] = 10\n",
    "    Y = np.zeros([m, k])\n",
    "    for i in range(m):\n",
    "        j = y[i]\n",
    "        Y[i, j-1] = 1\n",
    "\n",
    "    a1 = np.concatenate([np.ones([m, 1]), X], axis=1)\n",
    "\n",
    "    z2 = np.matmul(a1, np.transpose(Theta1))\n",
    "\n",
    "    a2 = np.concatenate([np.ones([m, 1]), sigmoid(z2)], axis=1)\n",
    "\n",
    "    z3 = np.matmul(a2, np.transpose(Theta2))\n",
    "\n",
    "    a3 = sigmoid(z3)\n",
    "    \n",
    "    logErrors = np.multiply(Y, np.log(a3)) + np.multiply(np.subtract(1, Y), np.log(np.subtract(1, a3)))\n",
    "\n",
    "    reg = lmda/(2*m) * (np.sum((Theta1[:, 1:]**2)) + np.sum((Theta2[:, 1:]**2)))\n",
    "\n",
    "    return -1/m * np.sum(logErrors) + reg"
   ]
  },
  {
   "cell_type": "markdown",
   "metadata": {},
   "source": [
    "## Function to find the grad for scipy.optimize"
   ]
  },
  {
   "cell_type": "code",
   "execution_count": 48,
   "metadata": {},
   "outputs": [],
   "source": [
    "def backPropagate(nn_params, X, y, lmda):\n",
    "    \n",
    "    X = np.reshape(X, (-1, 400))\n",
    "    \n",
    "    Theta1 = np.reshape(nn_params[0:10025], (-1, 401))\n",
    "    Theta2 = np.reshape(nn_params[10025:10285], (-1, 26))\n",
    "    \n",
    "    m = np.shape(X)[0]\n",
    "    y[y == 0] = 10\n",
    "    Y = np.zeros([m, k])\n",
    "    for i in range(m):\n",
    "        j = y[i]\n",
    "        Y[i, j-1] = 1\n",
    "        \n",
    "    a1 = np.concatenate([np.ones([m, 1]), X], axis=1)\n",
    "\n",
    "    z2 = np.matmul(a1, np.transpose(Theta1))\n",
    "\n",
    "    a2 = np.concatenate([np.ones([m, 1]), sigmoid(z2)], axis=1)\n",
    "\n",
    "    z3 = np.matmul(a2, np.transpose(Theta2))\n",
    "\n",
    "    a3 = sigmoid(z3)\n",
    "\n",
    "    d3 = np.subtract(a3, Y)\n",
    "\n",
    "    d2 = np.multiply(np.matmul(d3, Theta2[:, 1:]), sigmoidGradient(z2))\n",
    "\n",
    "    Delta1 = np.matmul(np.transpose(d2), a1)\n",
    "    Delta2 = np.matmul(np.transpose(d3), a2)\n",
    "\n",
    "    Theta1_grad = np.divide(Delta1, m)\n",
    "    Theta2_grad = np.divide(Delta2, m)\n",
    "\n",
    "    Theta1_grad[:, 2:] = Theta1_grad[:, 2:] + lmda/m*Theta1_grad[:, 2:]\n",
    "    Theta2_grad[:, 2:] = Theta2_grad[:, 2:] + lmda/m*Theta2_grad[:, 2:]\n",
    "\n",
    "    return np.concatenate([Theta1_grad.flatten(), Theta2_grad.flatten()])"
   ]
  },
  {
   "cell_type": "markdown",
   "metadata": {},
   "source": [
    "# scipy.optimize, fmin_cg"
   ]
  },
  {
   "cell_type": "markdown",
   "metadata": {},
   "source": [
    "### fmin_cg takes my cost_function, gradient_function, params and tries to optimize the cost value by iterating the gradient_function"
   ]
  },
  {
   "cell_type": "code",
   "execution_count": 316,
   "metadata": {},
   "outputs": [],
   "source": [
    "def fmin_cg_train(X_param, y_param, lmda):\n",
    "    randomThetas_unrolled = np.concatenate([randInitializeWeights(400, 25).flatten(), randInitializeWeights(25, 10).flatten()])\n",
    "    return fmin_cg(costFunction, fprime=backPropagate, x0=randomThetas_unrolled, args=(X_param.flatten(), y_param.flatten(), lmda), maxiter=400, disp=True, full_output=True )"
   ]
  },
  {
   "cell_type": "markdown",
   "metadata": {},
   "source": [
    "## Creating a Model"
   ]
  },
  {
   "cell_type": "code",
   "execution_count": 121,
   "metadata": {},
   "outputs": [
    {
     "name": "stdout",
     "output_type": "stream",
     "text": [
      "Warning: Maximum number of iterations has been exceeded.\n",
      "         Current function value: 1.915908\n",
      "         Iterations: 1600\n",
      "         Function evaluations: 2622\n",
      "         Gradient evaluations: 2622\n"
     ]
    }
   ],
   "source": [
    "learned_Thetas = fmin_cg_train()"
   ]
  },
  {
   "cell_type": "markdown",
   "metadata": {},
   "source": [
    "## Saving the model"
   ]
  },
  {
   "cell_type": "code",
   "execution_count": 119,
   "metadata": {},
   "outputs": [],
   "source": [
    "with open('./nn_model.pkl', 'wb') as f:\n",
    "    pickle.dump(learned_Thetas, f)"
   ]
  },
  {
   "cell_type": "markdown",
   "metadata": {},
   "source": [
    "### Load the model"
   ]
  },
  {
   "cell_type": "code",
   "execution_count": 134,
   "metadata": {},
   "outputs": [],
   "source": [
    "with open('./nn_model.pkl', 'rb') as f:\n",
    "    loaded_Thetas = pickle.load(f)[0]"
   ]
  },
  {
   "cell_type": "markdown",
   "metadata": {},
   "source": [
    "## Predict"
   ]
  },
  {
   "cell_type": "code",
   "execution_count": 25,
   "metadata": {},
   "outputs": [],
   "source": [
    "# Shaping Thetas\n",
    "Theta1 = np.reshape(loaded_Thetas[0:10025], (-1, 401))\n",
    "Theta2 = np.reshape(loaded_Thetas[10025:10285], (-1, 26))\n",
    "\n",
    "# Making a prediction\n",
    "a1 = np.concatenate([np.ones([m, 1]), X], axis=1)\n",
    "z2 = np.matmul(a1, np.transpose(Theta1))\n",
    "a2 = np.concatenate([np.ones([m, 1]), sigmoid(z2)], axis=1)\n",
    "z3 = np.matmul(a2, np.transpose(Theta2))\n",
    "a3 = sigmoid(z3)\n",
    "\n",
    "# Finding the indeces of the max value in each row\n",
    "predicted_values = np.argmax(a3, axis=1)"
   ]
  },
  {
   "cell_type": "markdown",
   "metadata": {},
   "source": [
    "### Implementation of Prediction function"
   ]
  },
  {
   "cell_type": "code",
   "execution_count": 53,
   "metadata": {},
   "outputs": [],
   "source": [
    "def nn_predict(learned_Thetas, X):\n",
    "    Theta1 = np.reshape(learned_Thetas[0:10025], (-1, 401))\n",
    "    Theta2 = np.reshape(learned_Thetas[10025:10285], (-1, 26))\n",
    "\n",
    "    m = np.shape(X)[0]\n",
    "    \n",
    "    a1 = np.concatenate([np.ones([m, 1]), X], axis=1)\n",
    "    z2 = np.matmul(a1, np.transpose(Theta1))\n",
    "    a2 = np.concatenate([np.ones([m, 1]), sigmoid(z2)], axis=1)\n",
    "    z3 = np.matmul(a2, np.transpose(Theta2))\n",
    "    a3 = sigmoid(z3)\n",
    "\n",
    "    return np.add(np.argmax(a3, axis=1), 1)"
   ]
  },
  {
   "cell_type": "markdown",
   "metadata": {},
   "source": [
    "## Evaluating our model on the test_set"
   ]
  },
  {
   "cell_type": "code",
   "execution_count": 359,
   "metadata": {},
   "outputs": [
    {
     "name": "stdout",
     "output_type": "stream",
     "text": [
      "9.571428571428571\n"
     ]
    }
   ],
   "source": [
    "# Making predictions\n",
    "predictions = nn_predict(loaded_Thetas, X_train)\n",
    "\n",
    "# Compare them to actual labels and get the accuracy\n",
    "print(np.mean((predictions == y_train.flatten()) * 100))"
   ]
  },
  {
   "cell_type": "markdown",
   "metadata": {},
   "source": [
    "### Function that returns Accuracy"
   ]
  },
  {
   "cell_type": "code",
   "execution_count": 357,
   "metadata": {},
   "outputs": [],
   "source": [
    "def accuracy(learned_Thetas, X_test, y_test):\n",
    "    predictions = nn_predict(learned_Thetas, X_test)\n",
    "    return np.mean((predictions == y_test.flatten()) * 100)"
   ]
  },
  {
   "cell_type": "markdown",
   "metadata": {},
   "source": [
    "### Comparison of our model to a simple randomizer"
   ]
  },
  {
   "cell_type": "code",
   "execution_count": 358,
   "metadata": {
    "collapsed": true,
    "jupyter": {
     "outputs_hidden": true
    }
   },
   "outputs": [
    {
     "ename": "TypeError",
     "evalue": "'numpy.ndarray' object is not callable",
     "output_type": "error",
     "traceback": [
      "\u001b[1;31m---------------------------------------------------------------------------\u001b[0m",
      "\u001b[1;31mTypeError\u001b[0m                                 Traceback (most recent call last)",
      "\u001b[1;32m<ipython-input-358-225e00d15ffd>\u001b[0m in \u001b[0;36m<module>\u001b[1;34m\u001b[0m\n\u001b[1;32m----> 1\u001b[1;33m \u001b[0mprint\u001b[0m\u001b[1;33m(\u001b[0m\u001b[0maccuracy\u001b[0m\u001b[1;33m(\u001b[0m\u001b[0mloaded_Thetas\u001b[0m\u001b[1;33m,\u001b[0m \u001b[0mX_train\u001b[0m\u001b[1;33m,\u001b[0m \u001b[0my_train\u001b[0m\u001b[1;33m)\u001b[0m\u001b[1;33m)\u001b[0m\u001b[1;33m\u001b[0m\u001b[1;33m\u001b[0m\u001b[0m\n\u001b[0m\u001b[0;32m      2\u001b[0m \u001b[1;33m\u001b[0m\u001b[0m\n\u001b[0;32m      3\u001b[0m \u001b[0mnp\u001b[0m\u001b[1;33m.\u001b[0m\u001b[0mmean\u001b[0m\u001b[1;33m(\u001b[0m\u001b[1;33m(\u001b[0m\u001b[1;36m1\u001b[0m\u001b[1;33m+\u001b[0m\u001b[0mnp\u001b[0m\u001b[1;33m.\u001b[0m\u001b[0mrandom\u001b[0m\u001b[1;33m.\u001b[0m\u001b[0mrandint\u001b[0m\u001b[1;33m(\u001b[0m\u001b[1;36m10\u001b[0m\u001b[1;33m,\u001b[0m \u001b[0msize\u001b[0m\u001b[1;33m=\u001b[0m\u001b[1;36m100\u001b[0m\u001b[1;33m)\u001b[0m \u001b[1;33m==\u001b[0m \u001b[0my_test\u001b[0m\u001b[1;33m.\u001b[0m\u001b[0mflatten\u001b[0m\u001b[1;33m(\u001b[0m\u001b[1;33m)\u001b[0m\u001b[1;33m)\u001b[0m \u001b[1;33m*\u001b[0m \u001b[1;36m100\u001b[0m\u001b[1;33m)\u001b[0m\u001b[1;33m\u001b[0m\u001b[1;33m\u001b[0m\u001b[0m\n",
      "\u001b[1;32m<ipython-input-357-5d3aff2c5ef2>\u001b[0m in \u001b[0;36maccuracy\u001b[1;34m(learned_Thetas, X_test, y_test)\u001b[0m\n\u001b[0;32m      1\u001b[0m \u001b[1;32mdef\u001b[0m \u001b[0maccuracy\u001b[0m\u001b[1;33m(\u001b[0m\u001b[0mlearned_Thetas\u001b[0m\u001b[1;33m,\u001b[0m \u001b[0mX_test\u001b[0m\u001b[1;33m,\u001b[0m \u001b[0my_test\u001b[0m\u001b[1;33m)\u001b[0m\u001b[1;33m:\u001b[0m\u001b[1;33m\u001b[0m\u001b[1;33m\u001b[0m\u001b[0m\n\u001b[1;32m----> 2\u001b[1;33m     \u001b[0mpredictions\u001b[0m \u001b[1;33m=\u001b[0m \u001b[0mlearned_Thetas\u001b[0m\u001b[1;33m(\u001b[0m\u001b[0mlearned_Thetas\u001b[0m\u001b[1;33m,\u001b[0m \u001b[0mX_test\u001b[0m\u001b[1;33m)\u001b[0m\u001b[1;33m\u001b[0m\u001b[1;33m\u001b[0m\u001b[0m\n\u001b[0m\u001b[0;32m      3\u001b[0m     \u001b[1;32mreturn\u001b[0m \u001b[0mnp\u001b[0m\u001b[1;33m.\u001b[0m\u001b[0mmean\u001b[0m\u001b[1;33m(\u001b[0m\u001b[1;33m(\u001b[0m\u001b[0mpredictions\u001b[0m \u001b[1;33m==\u001b[0m \u001b[0my_test\u001b[0m\u001b[1;33m.\u001b[0m\u001b[0mflatten\u001b[0m\u001b[1;33m(\u001b[0m\u001b[1;33m)\u001b[0m\u001b[1;33m)\u001b[0m \u001b[1;33m*\u001b[0m \u001b[1;36m100\u001b[0m\u001b[1;33m)\u001b[0m\u001b[1;33m\u001b[0m\u001b[1;33m\u001b[0m\u001b[0m\n",
      "\u001b[1;31mTypeError\u001b[0m: 'numpy.ndarray' object is not callable"
     ]
    }
   ],
   "source": [
    "print(accuracy(loaded_Thetas, X_train, y_train))\n",
    "\n",
    "np.mean((1+np.random.randint(10, size=100) == y_test.flatten()) * 100)"
   ]
  },
  {
   "cell_type": "markdown",
   "metadata": {},
   "source": [
    "### Splitting of the dataset to train, cross-validation and test sets"
   ]
  },
  {
   "cell_type": "code",
   "execution_count": 208,
   "metadata": {},
   "outputs": [
    {
     "name": "stdout",
     "output_type": "stream",
     "text": [
      "[0.   0.01 0.03 0.1  0.3  1.   3.  ]\n",
      "[]\n"
     ]
    }
   ],
   "source": [
    "costFunction(loaded_Thetas, X_train, y_train, 0)\n",
    "\n",
    "errors = []\n",
    "lmdas = np.array([0, 0.01, 0.03, 0.1, 0.3, 1, 3])\n",
    "\n",
    "X_all = data['X']\n",
    "y_all = data['y']\n",
    "\n",
    "np.random.shuffle(X_all)\n",
    "np.random.shuffle(y_all)\n",
    "\n",
    "X_training = X_all[0:3000]\n",
    "y_training = y_all[0:3000]\n",
    "\n",
    "X_val = X_all[3000:4000]\n",
    "y_val = y_all[3000:4000]    \n",
    "\n",
    "X_testing = X_all[4000:5000]\n",
    "y_testing = y_all[4000:5000]\n",
    "\n",
    "#errors.append(fmin_cg_train(1)[0])\n",
    "\n",
    "print(lmdas)\n",
    "print(errors)"
   ]
  },
  {
   "cell_type": "markdown",
   "metadata": {},
   "source": [
    "## Diagnosing Bias vs. Variance"
   ]
  },
  {
   "cell_type": "code",
   "execution_count": 209,
   "metadata": {
    "collapsed": true,
    "jupyter": {
     "outputs_hidden": true
    }
   },
   "outputs": [
    {
     "name": "stdout",
     "output_type": "stream",
     "text": [
      "Warning: Maximum number of iterations has been exceeded.\n",
      "         Current function value: 1.875249\n",
      "         Iterations: 400\n",
      "         Function evaluations: 602\n",
      "         Gradient evaluations: 602\n",
      "Warning: Maximum number of iterations has been exceeded.\n",
      "         Current function value: 1.921931\n",
      "         Iterations: 400\n",
      "         Function evaluations: 615\n",
      "         Gradient evaluations: 615\n",
      "Warning: Maximum number of iterations has been exceeded.\n",
      "         Current function value: 1.751357\n",
      "         Iterations: 400\n",
      "         Function evaluations: 651\n",
      "         Gradient evaluations: 651\n",
      "Warning: Maximum number of iterations has been exceeded.\n",
      "         Current function value: 1.833712\n",
      "         Iterations: 400\n",
      "         Function evaluations: 690\n",
      "         Gradient evaluations: 690\n",
      "Warning: Desired error not necessarily achieved due to precision loss.\n",
      "         Current function value: 2.201384\n",
      "         Iterations: 349\n",
      "         Function evaluations: 783\n",
      "         Gradient evaluations: 771\n",
      "Warning: Desired error not necessarily achieved due to precision loss.\n",
      "         Current function value: 2.951115\n",
      "         Iterations: 86\n",
      "         Function evaluations: 254\n",
      "         Gradient evaluations: 242\n",
      "Warning: Desired error not necessarily achieved due to precision loss.\n",
      "         Current function value: 3.182059\n",
      "         Iterations: 30\n",
      "         Function evaluations: 124\n",
      "         Gradient evaluations: 112\n"
     ]
    }
   ],
   "source": [
    "for i in lmdas:\n",
    "    errors.append(fmin_cg_train(i))\n",
    "    #print(i)"
   ]
  },
  {
   "cell_type": "code",
   "execution_count": 211,
   "metadata": {},
   "outputs": [
    {
     "name": "stdout",
     "output_type": "stream",
     "text": [
      "5.105095736911198 0.0\n",
      "5.063789375653575 0.01\n",
      "5.982514795511465 0.03\n",
      "6.118742227972356 0.1\n",
      "5.683890183072789 0.3\n",
      "3.8745296039961206 1.0\n",
      "3.621987964795333 3.0\n"
     ]
    }
   ],
   "source": [
    "cross_val = []\n",
    "for i in range(7):\n",
    "    cross_val.append(costFunction(errors[i][0], X_val, y_val, lmdas[i]))\n",
    "\n",
    "for i in range(7):\n",
    "    print(cross_val[i], lmdas[i])"
   ]
  },
  {
   "cell_type": "code",
   "execution_count": 210,
   "metadata": {},
   "outputs": [
    {
     "name": "stdout",
     "output_type": "stream",
     "text": [
      "1.8752494765075418 0.0\n",
      "1.9219308181490176 0.01\n",
      "1.7513571347374786 0.03\n",
      "1.8337118263486882 0.1\n",
      "2.201383652542189 0.3\n",
      "2.951115208780842 1.0\n",
      "3.1820587157122184 3.0\n"
     ]
    }
   ],
   "source": [
    "train_err = []\n",
    "for i in range(7):\n",
    "    train_err.append(costFunction(errors[i][0], X_training, y_training, lmdas[i]))\n",
    "    \n",
    "for i in range(7):\n",
    "    print(train_err[i], lmdas[i])    "
   ]
  },
  {
   "cell_type": "code",
   "execution_count": 327,
   "metadata": {},
   "outputs": [
    {
     "name": "stdout",
     "output_type": "stream",
     "text": [
      "10.0\n"
     ]
    }
   ],
   "source": [
    "print(accuracy(errors[6][0], X_testing, y_testing))"
   ]
  },
  {
   "cell_type": "code",
   "execution_count": 205,
   "metadata": {},
   "outputs": [
    {
     "name": "stdout",
     "output_type": "stream",
     "text": [
      "7.841316368834195 0.0\n",
      "7.817693931158653 0.01\n",
      "8.18578692998393 0.03\n",
      "7.448765449565347 0.1\n",
      "5.399415586111235 0.3\n",
      "3.822031741043098 1.0\n",
      "3.42672451322443 3.0\n"
     ]
    }
   ],
   "source": [
    "test_val = []\n",
    "for i in range(7):\n",
    "    test_val.append(costFunction(errors[i][0], X_testing, y_testing, lmdas[i]))\n",
    "for i in range(7):\n",
    "    print(test_val[i], lmdas[i])"
   ]
  },
  {
   "cell_type": "markdown",
   "metadata": {},
   "source": [
    "## Bias/Variance as a function of the regularization parameter Lambda"
   ]
  },
  {
   "cell_type": "code",
   "execution_count": 247,
   "metadata": {},
   "outputs": [
    {
     "data": {
      "image/png": "[encoded data removed]",
      "text/plain": [
       "<Figure size 432x288 with 1 Axes>"
      ]
     },
     "metadata": {
      "needs_background": "light"
     },
     "output_type": "display_data"
    }
   ],
   "source": [
    "import matplotlib.pyplot as plt\n",
    "\n",
    "plt.plot(lmdas,train_err,'b',label='J train')\n",
    "plt.plot(lmdas, cross_val, 'r', label='J cv')\n",
    "\n",
    "plt.xlabel('Lambda')\n",
    "plt.ylabel('Cost value')\n",
    "\n",
    "plt.show()"
   ]
  },
  {
   "cell_type": "markdown",
   "metadata": {},
   "source": [
    "## Learning Curve"
   ]
  },
  {
   "cell_type": "markdown",
   "metadata": {},
   "source": [
    "### Get splitted dataset\n",
    "### Loop over randomly chosen k examples"
   ]
  },
  {
   "cell_type": "markdown",
   "metadata": {},
   "source": [
    "#### Inner loop in range(50) to find average cost value for k examples"
   ]
  },
  {
   "cell_type": "markdown",
   "metadata": {},
   "source": [
    "#### Get training and cross_val sets"
   ]
  },
  {
   "cell_type": "code",
   "execution_count": 296,
   "metadata": {},
   "outputs": [],
   "source": [
    "X = data['X']\n",
    "y = data['y']\n",
    "\n",
    "# Shuffle them in random order (only rows)\n",
    "# to make model more flexible\n",
    "\n",
    "np.random.shuffle(X)\n",
    "np.random.shuffle(y)\n",
    "\n",
    "X_train_curve = X[0:2050]\n",
    "y_train_curve = y[0:2050]\n",
    "\n",
    "X_cross_curve = X[2050:4050]\n",
    "y_cross_curve = y[2050:4050]"
   ]
  },
  {
   "cell_type": "markdown",
   "metadata": {},
   "source": [
    "### We are taking set of 50, then 450, then 850 ... to 2050 and for each of them finding the average Cost value of 5 iterations\n",
    "### After that we can plot the Learning Curve"
   ]
  },
  {
   "cell_type": "code",
   "execution_count": 350,
   "metadata": {
    "collapsed": true,
    "jupyter": {
     "outputs_hidden": true
    }
   },
   "outputs": [
    {
     "name": "stdout",
     "output_type": "stream",
     "text": [
      "50 0\n",
      "Warning: Desired error not necessarily achieved due to precision loss.\n",
      "         Current function value: 0.254668\n",
      "         Iterations: 25\n",
      "         Function evaluations: 125\n",
      "         Gradient evaluations: 114\n",
      "9.685934286365216\n",
      "Warning: Desired error not necessarily achieved due to precision loss.\n",
      "         Current function value: 0.171567\n",
      "         Iterations: 33\n",
      "         Function evaluations: 122\n",
      "         Gradient evaluations: 110\n",
      "9.253449262710735\n",
      "Warning: Desired error not necessarily achieved due to precision loss.\n",
      "         Current function value: 0.235079\n",
      "         Iterations: 21\n",
      "         Function evaluations: 109\n",
      "         Gradient evaluations: 98\n",
      "9.780923138512566\n",
      "Warning: Desired error not necessarily achieved due to precision loss.\n",
      "         Current function value: 0.168043\n",
      "         Iterations: 19\n",
      "         Function evaluations: 98\n",
      "         Gradient evaluations: 87\n",
      "9.784085278510698\n",
      "Warning: Desired error not necessarily achieved due to precision loss.\n",
      "         Current function value: 0.168766\n",
      "         Iterations: 30\n",
      "         Function evaluations: 114\n",
      "         Gradient evaluations: 103\n",
      "10.370373964408794\n",
      "Warning: Desired error not necessarily achieved due to precision loss.\n",
      "         Current function value: 0.172143\n",
      "         Iterations: 45\n",
      "         Function evaluations: 153\n",
      "         Gradient evaluations: 141\n",
      "8.955170864261408\n",
      "Warning: Desired error not necessarily achieved due to precision loss.\n",
      "         Current function value: 0.419927\n",
      "         Iterations: 23\n",
      "         Function evaluations: 119\n",
      "         Gradient evaluations: 108\n",
      "14.067084349885638\n",
      "Warning: Desired error not necessarily achieved due to precision loss.\n",
      "         Current function value: 0.142741\n",
      "         Iterations: 28\n",
      "         Function evaluations: 120\n",
      "         Gradient evaluations: 109\n",
      "7.826970925311295\n",
      "Warning: Desired error not necessarily achieved due to precision loss.\n",
      "         Current function value: 0.153655\n",
      "         Iterations: 25\n",
      "         Function evaluations: 119\n",
      "         Gradient evaluations: 108\n",
      "9.978474857874327\n",
      "Warning: Desired error not necessarily achieved due to precision loss.\n",
      "         Current function value: 0.125988\n",
      "         Iterations: 28\n",
      "         Function evaluations: 116\n",
      "         Gradient evaluations: 104\n",
      "10.050031655898364\n",
      "450 1\n",
      "Warning: Desired error not necessarily achieved due to precision loss.\n",
      "         Current function value: 0.123295\n",
      "         Iterations: 167\n",
      "         Function evaluations: 357\n",
      "         Gradient evaluations: 345\n",
      "11.44163939837181\n",
      "Warning: Desired error not necessarily achieved due to precision loss.\n",
      "         Current function value: 0.108703\n",
      "         Iterations: 169\n",
      "         Function evaluations: 391\n",
      "         Gradient evaluations: 379\n",
      "11.887686513994215\n",
      "Warning: Desired error not necessarily achieved due to precision loss.\n",
      "         Current function value: 0.124789\n",
      "         Iterations: 186\n",
      "         Function evaluations: 438\n",
      "         Gradient evaluations: 427\n",
      "12.183469715048448\n",
      "Warning: Desired error not necessarily achieved due to precision loss.\n",
      "         Current function value: 0.127135\n",
      "         Iterations: 172\n",
      "         Function evaluations: 446\n",
      "         Gradient evaluations: 435\n",
      "12.307642821725644\n",
      "Warning: Desired error not necessarily achieved due to precision loss.\n",
      "         Current function value: 0.109221\n",
      "         Iterations: 185\n",
      "         Function evaluations: 434\n",
      "         Gradient evaluations: 423\n",
      "12.185860392862445\n",
      "Warning: Desired error not necessarily achieved due to precision loss.\n",
      "         Current function value: 0.127672\n",
      "         Iterations: 185\n",
      "         Function evaluations: 441\n",
      "         Gradient evaluations: 430\n",
      "11.464500129966712\n",
      "Warning: Desired error not necessarily achieved due to precision loss.\n",
      "         Current function value: 0.134702\n",
      "         Iterations: 161\n",
      "         Function evaluations: 417\n",
      "         Gradient evaluations: 405\n",
      "13.071060154905991\n",
      "Warning: Desired error not necessarily achieved due to precision loss.\n",
      "         Current function value: 0.110031\n",
      "         Iterations: 190\n",
      "         Function evaluations: 444\n",
      "         Gradient evaluations: 433\n",
      "12.780634724378707\n",
      "Warning: Desired error not necessarily achieved due to precision loss.\n",
      "         Current function value: 0.106996\n",
      "         Iterations: 173\n",
      "         Function evaluations: 464\n",
      "         Gradient evaluations: 452\n",
      "12.27570493547152\n",
      "Warning: Desired error not necessarily achieved due to precision loss.\n",
      "         Current function value: 0.101940\n",
      "         Iterations: 183\n",
      "         Function evaluations: 423\n",
      "         Gradient evaluations: 412\n",
      "12.66456094550291\n",
      "850 2\n",
      "Warning: Desired error not necessarily achieved due to precision loss.\n",
      "         Current function value: 0.175704\n",
      "         Iterations: 373\n",
      "         Function evaluations: 803\n",
      "         Gradient evaluations: 792\n",
      "12.628177755052333\n",
      "Warning: Maximum number of iterations has been exceeded.\n",
      "         Current function value: 0.122265\n",
      "         Iterations: 400\n",
      "         Function evaluations: 785\n",
      "         Gradient evaluations: 785\n",
      "14.787474469508144\n",
      "Warning: Maximum number of iterations has been exceeded.\n",
      "         Current function value: 0.170766\n",
      "         Iterations: 400\n",
      "         Function evaluations: 921\n",
      "         Gradient evaluations: 921\n",
      "15.434777586988782\n",
      "Warning: Maximum number of iterations has been exceeded.\n",
      "         Current function value: 0.133524\n",
      "         Iterations: 400\n",
      "         Function evaluations: 827\n",
      "         Gradient evaluations: 827\n",
      "14.172830885982053\n",
      "Warning: Desired error not necessarily achieved due to precision loss.\n",
      "         Current function value: 0.115515\n",
      "         Iterations: 376\n",
      "         Function evaluations: 811\n",
      "         Gradient evaluations: 799\n",
      "13.291128536815611\n",
      "Warning: Desired error not necessarily achieved due to precision loss.\n",
      "         Current function value: 0.115041\n",
      "         Iterations: 349\n",
      "         Function evaluations: 745\n",
      "         Gradient evaluations: 733\n",
      "13.493231695958022\n",
      "Warning: Desired error not necessarily achieved due to precision loss.\n",
      "         Current function value: 0.117886\n",
      "         Iterations: 385\n",
      "         Function evaluations: 854\n",
      "         Gradient evaluations: 842\n",
      "15.714410595959075\n",
      "Warning: Maximum number of iterations has been exceeded.\n",
      "         Current function value: 0.132520\n",
      "         Iterations: 400\n",
      "         Function evaluations: 742\n",
      "         Gradient evaluations: 742\n",
      "12.808420828021431\n",
      "Warning: Maximum number of iterations has been exceeded.\n",
      "         Current function value: 0.195995\n",
      "         Iterations: 400\n",
      "         Function evaluations: 681\n",
      "         Gradient evaluations: 681\n",
      "11.371226188336031\n",
      "Warning: Desired error not necessarily achieved due to precision loss.\n",
      "         Current function value: 0.150795\n",
      "         Iterations: 363\n",
      "         Function evaluations: 722\n",
      "         Gradient evaluations: 711\n",
      "13.450999276397631\n",
      "1250 3\n",
      "Warning: Maximum number of iterations has been exceeded.\n",
      "         Current function value: 0.419347\n",
      "         Iterations: 400\n",
      "         Function evaluations: 632\n",
      "         Gradient evaluations: 632\n",
      "9.83018269903364\n",
      "Warning: Maximum number of iterations has been exceeded.\n",
      "         Current function value: 0.283432\n",
      "         Iterations: 400\n",
      "         Function evaluations: 629\n",
      "         Gradient evaluations: 629\n",
      "12.668314615414815\n",
      "Warning: Maximum number of iterations has been exceeded.\n",
      "         Current function value: 0.216656\n",
      "         Iterations: 400\n",
      "         Function evaluations: 646\n",
      "         Gradient evaluations: 646\n",
      "12.030332117758519\n",
      "Warning: Maximum number of iterations has been exceeded.\n",
      "         Current function value: 0.266434\n",
      "         Iterations: 400\n",
      "         Function evaluations: 641\n",
      "         Gradient evaluations: 641\n",
      "11.11243684809032\n",
      "Warning: Maximum number of iterations has been exceeded.\n",
      "         Current function value: 0.277573\n",
      "         Iterations: 400\n",
      "         Function evaluations: 641\n",
      "         Gradient evaluations: 641\n",
      "11.315951251551613\n",
      "Warning: Maximum number of iterations has been exceeded.\n",
      "         Current function value: 0.413030\n",
      "         Iterations: 400\n",
      "         Function evaluations: 631\n",
      "         Gradient evaluations: 631\n",
      "10.013235183947126\n",
      "Warning: Maximum number of iterations has been exceeded.\n",
      "         Current function value: 0.343112\n",
      "         Iterations: 400\n",
      "         Function evaluations: 644\n",
      "         Gradient evaluations: 644\n",
      "11.07409255676936\n",
      "Warning: Maximum number of iterations has been exceeded.\n",
      "         Current function value: 0.436209\n",
      "         Iterations: 400\n",
      "         Function evaluations: 640\n",
      "         Gradient evaluations: 640\n",
      "9.751671993377201\n",
      "Warning: Maximum number of iterations has been exceeded.\n",
      "         Current function value: 0.325577\n",
      "         Iterations: 400\n",
      "         Function evaluations: 645\n",
      "         Gradient evaluations: 645\n",
      "10.946383879870858\n",
      "Warning: Maximum number of iterations has been exceeded.\n",
      "         Current function value: 0.444499\n",
      "         Iterations: 400\n",
      "         Function evaluations: 629\n",
      "         Gradient evaluations: 629\n",
      "9.4879555127172\n",
      "1650 4\n",
      "Warning: Maximum number of iterations has been exceeded.\n",
      "         Current function value: 0.813982\n",
      "         Iterations: 400\n",
      "         Function evaluations: 614\n",
      "         Gradient evaluations: 614\n",
      "8.115918458231146\n",
      "Warning: Maximum number of iterations has been exceeded.\n",
      "         Current function value: 1.044413\n",
      "         Iterations: 400\n",
      "         Function evaluations: 621\n",
      "         Gradient evaluations: 621\n",
      "7.009739136753645\n",
      "Warning: Maximum number of iterations has been exceeded.\n",
      "         Current function value: 0.726681\n",
      "         Iterations: 400\n",
      "         Function evaluations: 642\n",
      "         Gradient evaluations: 642\n",
      "8.530670079576847\n",
      "Warning: Maximum number of iterations has been exceeded.\n",
      "         Current function value: 0.660049\n",
      "         Iterations: 400\n",
      "         Function evaluations: 617\n",
      "         Gradient evaluations: 617\n",
      "8.910086679274274\n",
      "Warning: Maximum number of iterations has been exceeded.\n",
      "         Current function value: 0.879051\n",
      "         Iterations: 400\n",
      "         Function evaluations: 642\n",
      "         Gradient evaluations: 642\n",
      "7.940827891556161\n",
      "Warning: Maximum number of iterations has been exceeded.\n",
      "         Current function value: 0.759544\n",
      "         Iterations: 400\n",
      "         Function evaluations: 614\n",
      "         Gradient evaluations: 614\n",
      "8.428320493143632\n",
      "Warning: Maximum number of iterations has been exceeded.\n",
      "         Current function value: 0.680449\n",
      "         Iterations: 400\n",
      "         Function evaluations: 627\n",
      "         Gradient evaluations: 627\n",
      "9.211304121213079\n",
      "Warning: Maximum number of iterations has been exceeded.\n",
      "         Current function value: 0.884651\n",
      "         Iterations: 400\n",
      "         Function evaluations: 646\n",
      "         Gradient evaluations: 646\n",
      "7.637728679389077\n",
      "Warning: Maximum number of iterations has been exceeded.\n",
      "         Current function value: 0.862307\n",
      "         Iterations: 400\n",
      "         Function evaluations: 621\n",
      "         Gradient evaluations: 621\n",
      "8.044541569771475\n",
      "Warning: Maximum number of iterations has been exceeded.\n",
      "         Current function value: 0.889574\n",
      "         Iterations: 400\n",
      "         Function evaluations: 631\n",
      "         Gradient evaluations: 631\n",
      "7.934884561809076\n",
      "2050 5\n",
      "Warning: Maximum number of iterations has been exceeded.\n",
      "         Current function value: 1.011327\n",
      "         Iterations: 400\n",
      "         Function evaluations: 620\n",
      "         Gradient evaluations: 620\n",
      "7.78228070550283\n",
      "Warning: Maximum number of iterations has been exceeded.\n",
      "         Current function value: 1.244545\n",
      "         Iterations: 400\n",
      "         Function evaluations: 634\n",
      "         Gradient evaluations: 634\n",
      "6.53168900584116\n",
      "Warning: Maximum number of iterations has been exceeded.\n",
      "         Current function value: 1.154770\n",
      "         Iterations: 400\n",
      "         Function evaluations: 613\n",
      "         Gradient evaluations: 613\n",
      "6.9186647534413215\n",
      "Warning: Maximum number of iterations has been exceeded.\n",
      "         Current function value: 1.063522\n",
      "         Iterations: 400\n",
      "         Function evaluations: 628\n",
      "         Gradient evaluations: 628\n",
      "7.56515621110902\n",
      "Warning: Maximum number of iterations has been exceeded.\n",
      "         Current function value: 1.293446\n",
      "         Iterations: 400\n",
      "         Function evaluations: 619\n",
      "         Gradient evaluations: 619\n",
      "6.440488197896105\n",
      "Warning: Maximum number of iterations has been exceeded.\n",
      "         Current function value: 1.376314\n",
      "         Iterations: 400\n",
      "         Function evaluations: 634\n",
      "         Gradient evaluations: 634\n",
      "6.2083711955622\n",
      "Warning: Maximum number of iterations has been exceeded.\n",
      "         Current function value: 1.207963\n",
      "         Iterations: 400\n",
      "         Function evaluations: 638\n",
      "         Gradient evaluations: 638\n",
      "6.93542342739339\n",
      "Warning: Maximum number of iterations has been exceeded.\n",
      "         Current function value: 1.088080\n",
      "         Iterations: 400\n",
      "         Function evaluations: 615\n",
      "         Gradient evaluations: 615\n",
      "7.754162852931707\n",
      "Warning: Maximum number of iterations has been exceeded.\n",
      "         Current function value: 1.335307\n",
      "         Iterations: 400\n",
      "         Function evaluations: 621\n",
      "         Gradient evaluations: 621\n",
      "6.272907840817381\n",
      "Warning: Maximum number of iterations has been exceeded.\n",
      "         Current function value: 1.060384\n",
      "         Iterations: 400\n",
      "         Function evaluations: 623\n",
      "         Gradient evaluations: 623\n",
      "7.646172501657998\n"
     ]
    }
   ],
   "source": [
    "# Get the vector of sum for 50 iterations for each set of m\n",
    "\n",
    "# We store avg J_train here\n",
    "sum_of_error_train = np.zeros(6)\n",
    "\n",
    "# We store avg J_cv here\n",
    "sum_of_error_val = np.zeros(6)\n",
    "\n",
    "p = 0\n",
    "for i in range(50, 2051, 400):\n",
    "    print(i, p)\n",
    "    for j in range(10):\n",
    "        rand_IDX = np.random.permutation(2000)\n",
    "        X_train_curve = X_train_curve[rand_IDX]\n",
    "        y_train_curve = y_train_curve[rand_IDX]\n",
    "        result_train = fmin_cg_train(X_train_curve[0:i], y_train_curve[0:i], 0.01)\n",
    "        result_val = costFunction(result_train[0], X_cross_curve[0:i], y_cross_curve[0:i], 0.01)\n",
    "        print(result_val)\n",
    "        sum_of_error_train[p] = sum_of_error_train[p] + result_train[1]\n",
    "        sum_of_error_val[p] = sum_of_error_val[p] + result_val\n",
    "    \n",
    "    p = p + 1\n",
    "    \n",
    "sum_of_error_train = sum_of_error_train/10\n",
    "sum_of_error_val = sum_of_error_val/10"
   ]
  },
  {
   "cell_type": "code",
   "execution_count": 354,
   "metadata": {},
   "outputs": [
    {
     "name": "stdout",
     "output_type": "stream",
     "text": [
      "[ 9.97524986 12.22627597 13.71526778 10.82305567  8.17640217  7.00553167]\n"
     ]
    },
    {
     "data": {
      "image/png": "[encoded data removed]",
      "text/plain": [
       "<Figure size 432x288 with 1 Axes>"
      ]
     },
     "metadata": {
      "needs_background": "light"
     },
     "output_type": "display_data"
    }
   ],
   "source": [
    "examples = [50, 450, 850, 1250, 1650, 2050]\n",
    "\n",
    "print(sum_of_error_val)\n",
    "\n",
    "plt.plot(examples, sum_of_error_train,'b',label='J train')\n",
    "plt.plot(examples, sum_of_error_val, 'r', label='J cv')\n",
    "\n",
    "plt.xlabel('amount of examples')\n",
    "plt.ylabel('Cost value')\n",
    "plt.title('Learning Curve with lambda = 0.1')\n",
    "\n",
    "plt.show()"
   ]
  },
  {
   "cell_type": "markdown",
   "metadata": {},
   "source": [
    "### LC with lambda = 1"
   ]
  },
  {
   "cell_type": "code",
   "execution_count": 342,
   "metadata": {},
   "outputs": [
    {
     "data": {
      "image/png": "[encoded data removed]",
      "text/plain": [
       "<Figure size 432x288 with 1 Axes>"
      ]
     },
     "metadata": {
      "needs_background": "light"
     },
     "output_type": "display_data"
    }
   ],
   "source": [
    "examples = [50, 450, 850, 1250, 1650, 2050]\n",
    "\n",
    "plt.plot(examples, sum_of_error_train,'b',label='J train')\n",
    "plt.plot(examples, sum_of_error_val, 'r', label='J cv')\n",
    "\n",
    "plt.xlabel('amount of examples')\n",
    "plt.ylabel('Cost value')\n",
    "plt.title('Learning Curve')\n",
    "\n",
    "plt.show()"
   ]
  },
  {
   "cell_type": "markdown",
   "metadata": {},
   "source": [
    "### LC with lambda = 0"
   ]
  },
  {
   "cell_type": "code",
   "execution_count": 344,
   "metadata": {},
   "outputs": [
    {
     "data": {
      "image/png": "[encoded data removed]",
      "text/plain": [
       "<Figure size 432x288 with 1 Axes>"
      ]
     },
     "metadata": {
      "needs_background": "light"
     },
     "output_type": "display_data"
    }
   ],
   "source": [
    "examples = [50, 450, 850, 1250, 1650, 2050]\n",
    "\n",
    "plt.plot(examples, sum_of_error_train,'b',label='J train')\n",
    "plt.plot(examples, sum_of_error_val, 'r', label='J cv')\n",
    "\n",
    "plt.xlabel('amount of examples')\n",
    "plt.ylabel('Cost value')\n",
    "plt.title('Learning Curve')\n",
    "\n",
    "plt.show()"
   ]
  },
  {
   "cell_type": "markdown",
   "metadata": {},
   "source": [
    "### LC with lambda = 0.1"
   ]
  },
  {
   "cell_type": "code",
   "execution_count": 346,
   "metadata": {},
   "outputs": [
    {
     "data": {
      "image/png": "[encoded data removed]",
      "text/plain": [
       "<Figure size 432x288 with 1 Axes>"
      ]
     },
     "metadata": {
      "needs_background": "light"
     },
     "output_type": "display_data"
    }
   ],
   "source": [
    "examples = [50, 450, 850, 1250, 1650, 2050]\n",
    "\n",
    "plt.plot(examples, sum_of_error_train,'b',label='J train')\n",
    "plt.plot(examples, sum_of_error_val, 'r', label='J cv')\n",
    "\n",
    "plt.xlabel('amount of examples')\n",
    "plt.ylabel('Cost value')\n",
    "plt.title('Learning Curve')\n",
    "\n",
    "plt.show()"
   ]
  },
  {
   "cell_type": "markdown",
   "metadata": {},
   "source": [
    "# I am working on accuracy :("
   ]
  }
 ],
 "metadata": {
  "kernelspec": {
   "display_name": "Python 3",
   "language": "python",
   "name": "python3"
  },
  "language_info": {
   "codemirror_mode": {
    "name": "ipython",
    "version": 3
   },
   "file_extension": ".py",
   "mimetype": "text/x-python",
   "name": "python",
   "nbconvert_exporter": "python",
   "pygments_lexer": "ipython3",
   "version": "3.8.2"
  }
 },
 "nbformat": 4,
 "nbformat_minor": 4
}
