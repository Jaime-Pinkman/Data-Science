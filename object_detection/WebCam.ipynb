{
 "cells": [
  {
   "cell_type": "code",
   "execution_count": 1,
   "metadata": {},
   "outputs": [
    {
     "name": "stdout",
     "output_type": "stream",
     "text": [
      "Requirement already up-to-date: tensorflow==2.* in c:\\users\\talll\\appdata\\roaming\\python\\python38\\site-packages (2.2.0rc2)\n",
      "Requirement already satisfied, skipping upgrade: wrapt>=1.11.1 in c:\\users\\talll\\appdata\\roaming\\python\\python38\\site-packages (from tensorflow==2.*) (1.12.1)\n",
      "Requirement already satisfied, skipping upgrade: protobuf>=3.8.0 in c:\\users\\talll\\appdata\\roaming\\python\\python38\\site-packages (from tensorflow==2.*) (3.11.3)\n",
      "Requirement already satisfied, skipping upgrade: google-pasta>=0.1.8 in c:\\users\\talll\\appdata\\roaming\\python\\python38\\site-packages (from tensorflow==2.*) (0.2.0)\n",
      "Requirement already satisfied, skipping upgrade: six>=1.12.0 in c:\\users\\talll\\appdata\\local\\programs\\python\\python38\\lib\\site-packages (from tensorflow==2.*) (1.14.0)\n",
      "Requirement already satisfied, skipping upgrade: gast==0.3.3 in c:\\users\\talll\\appdata\\roaming\\python\\python38\\site-packages (from tensorflow==2.*) (0.3.3)\n",
      "Requirement already satisfied, skipping upgrade: astunparse==1.6.3 in c:\\users\\talll\\appdata\\roaming\\python\\python38\\site-packages (from tensorflow==2.*) (1.6.3)\n",
      "Requirement already satisfied, skipping upgrade: h5py<2.11.0,>=2.10.0 in c:\\users\\talll\\appdata\\roaming\\python\\python38\\site-packages (from tensorflow==2.*) (2.10.0)\n",
      "Requirement already satisfied, skipping upgrade: opt-einsum>=2.3.2 in c:\\users\\talll\\appdata\\roaming\\python\\python38\\site-packages (from tensorflow==2.*) (3.2.0)\n",
      "Requirement already satisfied, skipping upgrade: termcolor>=1.1.0 in c:\\users\\talll\\appdata\\roaming\\python\\python38\\site-packages (from tensorflow==2.*) (1.1.0)\n",
      "Requirement already satisfied, skipping upgrade: tensorflow-estimator<2.3.0,>=2.2.0rc0 in c:\\users\\talll\\appdata\\roaming\\python\\python38\\site-packages (from tensorflow==2.*) (2.2.0rc0)\n",
      "Requirement already satisfied, skipping upgrade: grpcio>=1.8.6 in c:\\users\\talll\\appdata\\roaming\\python\\python38\\site-packages (from tensorflow==2.*) (1.28.1)\n",
      "Requirement already satisfied, skipping upgrade: wheel>=0.26; python_version >= \"3\" in c:\\users\\talll\\appdata\\roaming\\python\\python38\\site-packages (from tensorflow==2.*) (0.34.2)\n",
      "Requirement already satisfied, skipping upgrade: scipy==1.4.1; python_version >= \"3\" in c:\\users\\talll\\appdata\\roaming\\python\\python38\\site-packages (from tensorflow==2.*) (1.4.1)\n",
      "Requirement already satisfied, skipping upgrade: absl-py>=0.7.0 in c:\\users\\talll\\appdata\\roaming\\python\\python38\\site-packages (from tensorflow==2.*) (0.9.0)\n",
      "Requirement already satisfied, skipping upgrade: numpy<2.0,>=1.16.0 in c:\\users\\talll\\appdata\\local\\programs\\python\\python38\\lib\\site-packages (from tensorflow==2.*) (1.18.2)\n",
      "Requirement already satisfied, skipping upgrade: tensorboard<2.3.0,>=2.2.0 in c:\\users\\talll\\appdata\\roaming\\python\\python38\\site-packages (from tensorflow==2.*) (2.2.0)\n",
      "Requirement already satisfied, skipping upgrade: keras-preprocessing>=1.1.0 in c:\\users\\talll\\appdata\\roaming\\python\\python38\\site-packages (from tensorflow==2.*) (1.1.0)\n",
      "Requirement already satisfied, skipping upgrade: setuptools in c:\\users\\talll\\appdata\\local\\programs\\python\\python38\\lib\\site-packages (from protobuf>=3.8.0->tensorflow==2.*) (41.2.0)\n",
      "Requirement already satisfied, skipping upgrade: requests<3,>=2.21.0 in c:\\users\\talll\\appdata\\roaming\\python\\python38\\site-packages (from tensorboard<2.3.0,>=2.2.0->tensorflow==2.*) (2.23.0)\n",
      "Requirement already satisfied, skipping upgrade: google-auth-oauthlib<0.5,>=0.4.1 in c:\\users\\talll\\appdata\\roaming\\python\\python38\\site-packages (from tensorboard<2.3.0,>=2.2.0->tensorflow==2.*) (0.4.1)\n",
      "Requirement already satisfied, skipping upgrade: tensorboard-plugin-wit>=1.6.0 in c:\\users\\talll\\appdata\\roaming\\python\\python38\\site-packages (from tensorboard<2.3.0,>=2.2.0->tensorflow==2.*) (1.6.0.post2)\n",
      "Requirement already satisfied, skipping upgrade: google-auth<2,>=1.6.3 in c:\\users\\talll\\appdata\\roaming\\python\\python38\\site-packages (from tensorboard<2.3.0,>=2.2.0->tensorflow==2.*) (1.13.1)\n",
      "Requirement already satisfied, skipping upgrade: werkzeug>=0.11.15 in c:\\users\\talll\\appdata\\roaming\\python\\python38\\site-packages (from tensorboard<2.3.0,>=2.2.0->tensorflow==2.*) (1.0.1)\n",
      "Requirement already satisfied, skipping upgrade: markdown>=2.6.8 in c:\\users\\talll\\appdata\\roaming\\python\\python38\\site-packages (from tensorboard<2.3.0,>=2.2.0->tensorflow==2.*) (3.2.1)\n",
      "Requirement already satisfied, skipping upgrade: urllib3!=1.25.0,!=1.25.1,<1.26,>=1.21.1 in c:\\users\\talll\\appdata\\roaming\\python\\python38\\site-packages (from requests<3,>=2.21.0->tensorboard<2.3.0,>=2.2.0->tensorflow==2.*) (1.25.8)\n",
      "Requirement already satisfied, skipping upgrade: idna<3,>=2.5 in c:\\users\\talll\\appdata\\roaming\\python\\python38\\site-packages (from requests<3,>=2.21.0->tensorboard<2.3.0,>=2.2.0->tensorflow==2.*) (2.9)\n",
      "Requirement already satisfied, skipping upgrade: chardet<4,>=3.0.2 in c:\\users\\talll\\appdata\\roaming\\python\\python38\\site-packages (from requests<3,>=2.21.0->tensorboard<2.3.0,>=2.2.0->tensorflow==2.*) (3.0.4)\n",
      "Requirement already satisfied, skipping upgrade: certifi>=2017.4.17 in c:\\users\\talll\\appdata\\roaming\\python\\python38\\site-packages (from requests<3,>=2.21.0->tensorboard<2.3.0,>=2.2.0->tensorflow==2.*) (2020.4.5)\n",
      "Requirement already satisfied, skipping upgrade: requests-oauthlib>=0.7.0 in c:\\users\\talll\\appdata\\roaming\\python\\python38\\site-packages (from google-auth-oauthlib<0.5,>=0.4.1->tensorboard<2.3.0,>=2.2.0->tensorflow==2.*) (1.3.0)\n",
      "Requirement already satisfied, skipping upgrade: rsa<4.1,>=3.1.4 in c:\\users\\talll\\appdata\\roaming\\python\\python38\\site-packages (from google-auth<2,>=1.6.3->tensorboard<2.3.0,>=2.2.0->tensorflow==2.*) (4.0)\n",
      "Requirement already satisfied, skipping upgrade: pyasn1-modules>=0.2.1 in c:\\users\\talll\\appdata\\roaming\\python\\python38\\site-packages (from google-auth<2,>=1.6.3->tensorboard<2.3.0,>=2.2.0->tensorflow==2.*) (0.2.8)\n",
      "Requirement already satisfied, skipping upgrade: cachetools<5.0,>=2.0.0 in c:\\users\\talll\\appdata\\roaming\\python\\python38\\site-packages (from google-auth<2,>=1.6.3->tensorboard<2.3.0,>=2.2.0->tensorflow==2.*) (4.0.0)\n",
      "Requirement already satisfied, skipping upgrade: oauthlib>=3.0.0 in c:\\users\\talll\\appdata\\roaming\\python\\python38\\site-packages (from requests-oauthlib>=0.7.0->google-auth-oauthlib<0.5,>=0.4.1->tensorboard<2.3.0,>=2.2.0->tensorflow==2.*) (3.1.0)\n",
      "Requirement already satisfied, skipping upgrade: pyasn1>=0.1.3 in c:\\users\\talll\\appdata\\roaming\\python\\python38\\site-packages (from rsa<4.1,>=3.1.4->google-auth<2,>=1.6.3->tensorboard<2.3.0,>=2.2.0->tensorflow==2.*) (0.4.8)\n"
     ]
    },
    {
     "name": "stderr",
     "output_type": "stream",
     "text": [
      "WARNING: You are using pip version 19.2.3, however version 20.0.2 is available.\n",
      "You should consider upgrading via the 'python -m pip install --upgrade pip' command.\n"
     ]
    }
   ],
   "source": [
    "!pip install -U --pre tensorflow==\"2.*\""
   ]
  },
  {
   "cell_type": "code",
   "execution_count": 2,
   "metadata": {},
   "outputs": [],
   "source": [
    "import os\n",
    "import pathlib\n",
    "\n",
    "\n",
    "if \"models\" in pathlib.Path.cwd().parts:\n",
    "  while \"models\" in pathlib.Path.cwd().parts:\n",
    "    os.chdir('..')\n",
    "elif not pathlib.Path('models').exists():\n",
    "  !git clone --depth 1 https://github.com/tensorflow/models"
   ]
  },
  {
   "cell_type": "code",
   "execution_count": 3,
   "metadata": {},
   "outputs": [
    {
     "name": "stdout",
     "output_type": "stream",
     "text": [
      "Microsoft Windows [Version 10.0.18362.720]\n",
      "(c) 2019 Microsoft Corporation. All rights reserved.\n",
      "\n",
      "D:\\object_detection\\models-master\\research\\object_detection>cd D:/object_detection/models-master/research\n",
      "\n",
      "D:\\object_detection\\models-master\\research>D:/object_detection/bin/protoc object_detection/protos/*.proto --python_out=.\n",
      "\n",
      "D:\\object_detection\\models-master\\research>"
     ]
    }
   ],
   "source": [
    "%%cmd\n",
    "cd D:/object_detection/models-master/research\n",
    "D:/object_detection/bin/protoc object_detection/protos/*.proto --python_out=."
   ]
  },
  {
   "cell_type": "code",
   "execution_count": 4,
   "metadata": {},
   "outputs": [
    {
     "name": "stdout",
     "output_type": "stream",
     "text": [
      "Microsoft Windows [Version 10.0.18362.720]\n",
      "(c) 2019 Microsoft Corporation. All rights reserved.\n",
      "\n",
      "D:\\object_detection\\models-master\\research\\object_detection>cd D:/object_detection/models-master/research\n",
      "\n",
      "D:\\object_detection\\models-master\\research>pip install .\n",
      "Processing d:\\object_detection\\models-master\\research\n",
      "Requirement already satisfied: Pillow>=1.0 in c:\\users\\talll\\appdata\\local\\programs\\python\\python38\\lib\\site-packages (from object-detection==0.1) (7.1.1)\n",
      "Requirement already satisfied: Matplotlib>=2.1 in c:\\users\\talll\\appdata\\local\\programs\\python\\python38\\lib\\site-packages (from object-detection==0.1) (3.2.1)\n",
      "Requirement already satisfied: Cython>=0.28.1 in c:\\users\\talll\\appdata\\local\\programs\\python\\python38\\lib\\site-packages (from object-detection==0.1) (0.29.16)\n",
      "Requirement already satisfied: pyparsing!=2.0.4,!=2.1.2,!=2.1.6,>=2.0.1 in c:\\users\\talll\\appdata\\local\\programs\\python\\python38\\lib\\site-packages (from Matplotlib>=2.1->object-detection==0.1) (2.4.6)\n",
      "Requirement already satisfied: cycler>=0.10 in c:\\users\\talll\\appdata\\local\\programs\\python\\python38\\lib\\site-packages (from Matplotlib>=2.1->object-detection==0.1) (0.10.0)\n",
      "Requirement already satisfied: numpy>=1.11 in c:\\users\\talll\\appdata\\local\\programs\\python\\python38\\lib\\site-packages (from Matplotlib>=2.1->object-detection==0.1) (1.18.2)\n",
      "Requirement already satisfied: kiwisolver>=1.0.1 in c:\\users\\talll\\appdata\\local\\programs\\python\\python38\\lib\\site-packages (from Matplotlib>=2.1->object-detection==0.1) (1.2.0)\n",
      "Requirement already satisfied: python-dateutil>=2.1 in c:\\users\\talll\\appdata\\local\\programs\\python\\python38\\lib\\site-packages (from Matplotlib>=2.1->object-detection==0.1) (2.8.1)\n",
      "Requirement already satisfied: six in c:\\users\\talll\\appdata\\local\\programs\\python\\python38\\lib\\site-packages (from cycler>=0.10->Matplotlib>=2.1->object-detection==0.1) (1.14.0)\n",
      "Building wheels for collected packages: object-detection\n",
      "  Building wheel for object-detection (setup.py): started\n",
      "  Building wheel for object-detection (setup.py): finished with status 'done'\n",
      "  Created wheel for object-detection: filename=object_detection-0.1-cp38-none-any.whl size=1016591 sha256=b0c16f4d13fe31920ef871e4e3980ea88314ed095262d9a3ec756d7895bd718d\n",
      "  Stored in directory: C:\\Users\\talll\\AppData\\Local\\Temp\\pip-ephem-wheel-cache-tdfvr6v0\\wheels\\6f\\b5\\e5\\9de55fd51437866f5e71f9cf74a63a14c8691042e634ea9afa\n",
      "Successfully built object-detection\n",
      "Installing collected packages: object-detection\n",
      "  Found existing installation: object-detection 0.1\n",
      "    Uninstalling object-detection-0.1:\n",
      "      Successfully uninstalled object-detection-0.1\n",
      "Successfully installed object-detection-0.1\n",
      "\n",
      "D:\\object_detection\\models-master\\research>"
     ]
    },
    {
     "name": "stderr",
     "output_type": "stream",
     "text": [
      "WARNING: You are using pip version 19.2.3, however version 20.0.2 is available.\n",
      "You should consider upgrading via the 'python -m pip install --upgrade pip' command.\n"
     ]
    }
   ],
   "source": [
    "%%cmd\n",
    "cd D:/object_detection/models-master/research\n",
    "pip install ."
   ]
  },
  {
   "cell_type": "code",
   "execution_count": 5,
   "metadata": {},
   "outputs": [],
   "source": [
    "import numpy as np\n",
    "import os\n",
    "import six.moves.urllib as urllib\n",
    "import sys\n",
    "import tarfile\n",
    "import tensorflow as tf\n",
    "import zipfile\n",
    "import cv2 \n",
    "import pathlib\n",
    "\n",
    "from collections import defaultdict\n",
    "from io import StringIO\n",
    "from matplotlib import pyplot as plt\n",
    "from PIL import Image\n",
    "from IPython.display import display"
   ]
  },
  {
   "cell_type": "code",
   "execution_count": 6,
   "metadata": {},
   "outputs": [],
   "source": [
    "# Import the object detection module.\n",
    "\n",
    "from object_detection.utils import ops as utils_ops\n",
    "from object_detection.utils import label_map_util\n",
    "from object_detection.utils import visualization_utils as vis_util"
   ]
  },
  {
   "cell_type": "code",
   "execution_count": 7,
   "metadata": {},
   "outputs": [],
   "source": [
    "cap = cv2.VideoCapture(0)"
   ]
  },
  {
   "cell_type": "code",
   "execution_count": 8,
   "metadata": {},
   "outputs": [],
   "source": [
    "# Patches:\n",
    "# patch tf1 into `utils.ops`\n",
    "utils_ops.tf = tf.compat.v1\n",
    "\n",
    "# Patch the location of gfile\n",
    "tf.gfile = tf.io.gfile"
   ]
  },
  {
   "cell_type": "code",
   "execution_count": 9,
   "metadata": {},
   "outputs": [],
   "source": [
    "# # Model preparation \n",
    "\n",
    "def load_model(model_name):\n",
    "  base_url = 'http://download.tensorflow.org/models/object_detection/'\n",
    "  model_file = model_name + '.tar.gz'\n",
    "  model_dir = tf.keras.utils.get_file(\n",
    "    fname=model_name, \n",
    "    origin=base_url + model_file,\n",
    "    untar=True)\n",
    "\n",
    "  model_dir = pathlib.Path(model_dir)/\"saved_model\"\n",
    "\n",
    "  model = tf.saved_model.load(str(model_dir))\n",
    "  model = model.signatures['serving_default']\n",
    "\n",
    "  return model"
   ]
  },
  {
   "cell_type": "code",
   "execution_count": 10,
   "metadata": {},
   "outputs": [],
   "source": [
    "# ## Loading label map\n",
    "# Label maps map indices to category names, so that when our convolution network predicts `5`, we know that this corresponds to `airplane`.  Here we use internal utility functions, but anything that returns a dictionary mapping integers to appropriate string labels would be fine\n",
    "\n",
    "\n",
    "\n",
    "# List of the strings that is used to add correct label for each box.\n",
    "PATH_TO_LABELS = 'D:/object_detection/models-master/research/object_detection/data/mscoco_label_map.pbtxt'\n",
    "category_index = label_map_util.create_category_index_from_labelmap(PATH_TO_LABELS, use_display_name=True)\n",
    "\n"
   ]
  },
  {
   "cell_type": "code",
   "execution_count": 11,
   "metadata": {},
   "outputs": [
    {
     "name": "stdout",
     "output_type": "stream",
     "text": [
      "INFO:tensorflow:Saver not created because there are no variables in the graph to restore\n",
      "[<tf.Tensor 'image_tensor:0' shape=(None, None, None, 3) dtype=uint8>]\n"
     ]
    },
    {
     "data": {
      "text/plain": [
       "{'detection_boxes': TensorShape([None, 100, 4]),\n",
       " 'detection_scores': TensorShape([None, 100]),\n",
       " 'detection_classes': TensorShape([None, 100]),\n",
       " 'num_detections': TensorShape([None])}"
      ]
     },
     "execution_count": 11,
     "metadata": {},
     "output_type": "execute_result"
    }
   ],
   "source": [
    "# # Detection\n",
    "\n",
    "# Load an object detection model:\n",
    "\n",
    "\n",
    "model_name = 'ssd_mobilenet_v1_coco_2017_11_17'\n",
    "detection_model = load_model(model_name)\n",
    "\n",
    "\n",
    "# Check the model's input signature, it expects a batch of 3-color images of type uint8: \n",
    "\n",
    "\n",
    "print(detection_model.inputs)\n",
    "\n",
    "\n",
    "# And retuns several outputs:\n",
    "\n",
    "detection_model.output_dtypes\n",
    "\n",
    "\n",
    "detection_model.output_shapes"
   ]
  },
  {
   "cell_type": "code",
   "execution_count": 12,
   "metadata": {},
   "outputs": [],
   "source": [
    "# Add a wrapper function to call the model, and cleanup the outputs:\n",
    "\n",
    "\n",
    "def run_inference_for_single_image(model, image):\n",
    "  image = np.asarray(image)\n",
    "  # The input needs to be a tensor, convert it using `tf.convert_to_tensor`.\n",
    "  input_tensor = tf.convert_to_tensor(image)\n",
    "  # The model expects a batch of images, so add an axis with `tf.newaxis`.\n",
    "  input_tensor = input_tensor[tf.newaxis,...]\n",
    "\n",
    "  # Run inference\n",
    "  output_dict = model(input_tensor)\n",
    "\n",
    "  # All outputs are batches tensors.\n",
    "  # Convert to numpy arrays, and take index [0] to remove the batch dimension.\n",
    "  # We're only interested in the first num_detections.\n",
    "  num_detections = int(output_dict.pop('num_detections'))\n",
    "  output_dict = {key:value[0, :num_detections].numpy() \n",
    "                 for key,value in output_dict.items()}\n",
    "  output_dict['num_detections'] = num_detections\n",
    "\n",
    "  # detection_classes should be ints.\n",
    "  output_dict['detection_classes'] = output_dict['detection_classes'].astype(np.int64)\n",
    "   \n",
    "  # Handle models with masks:\n",
    "  if 'detection_masks' in output_dict:\n",
    "    # Reframe the the bbox mask to the image size.\n",
    "    detection_masks_reframed = utils_ops.reframe_box_masks_to_image_masks(\n",
    "              output_dict['detection_masks'], output_dict['detection_boxes'],\n",
    "               image.shape[0], image.shape[1])      \n",
    "    detection_masks_reframed = tf.cast(detection_masks_reframed > 0.5,\n",
    "                                       tf.uint8)\n",
    "    output_dict['detection_masks_reframed'] = detection_masks_reframed.numpy()\n",
    "    \n",
    "  return output_dict"
   ]
  },
  {
   "cell_type": "code",
   "execution_count": 13,
   "metadata": {},
   "outputs": [],
   "source": [
    "# Run it on each test image and show the results:\n",
    "\n",
    "\n",
    "\n",
    "def show_inference(model):\n",
    "  \n",
    "  while True:\n",
    "    ret, image_np = cap.read()\n",
    "\n",
    "    # Actual detection.\n",
    "    output_dict = run_inference_for_single_image(model, image_np)\n",
    "    # Visualization of the results of a detection.\n",
    "    vis_util.visualize_boxes_and_labels_on_image_array(\n",
    "        image_np,\n",
    "        output_dict['detection_boxes'],\n",
    "        output_dict['detection_classes'],\n",
    "        output_dict['detection_scores'],\n",
    "        category_index,\n",
    "        instance_masks=output_dict.get('detection_masks_reframed', None),\n",
    "        use_normalized_coordinates=True,\n",
    "        line_thickness=8)\n",
    "\n",
    "    cv2.imshow('obj detection', cv2.resize(image_np, (800,600)))\n",
    "\n",
    "    if cv2.waitKey(25) & 0xFF == ord('q'):\n",
    "      cv2.destroyAllWindows()\n",
    "      break"
   ]
  },
  {
   "cell_type": "code",
   "execution_count": null,
   "metadata": {},
   "outputs": [],
   "source": [
    "while True:\n",
    "      show_inference(detection_model)"
   ]
  },
  {
   "cell_type": "markdown",
   "metadata": {},
   "source": [
    "import tensorflow as tf\n",
    "with tf.device('/gpu:0'):\n",
    "      a = tf.constant([1.0, 2.0, 3.0, 4.0, 5.0, 6.0], shape=[2, 3], name='a')\n",
    "      b = tf.constant([1.0, 2.0, 3.0, 4.0, 5.0, 6.0], shape=[3, 2], name='b')\n",
    "      c = tf.matmul(a, b)\n",
    "with tf.Session() as sess:\n",
    "    print (sess.run(c))"
   ]
  }
 ],
 "metadata": {
  "kernelspec": {
   "display_name": "Python 3",
   "language": "python",
   "name": "python3"
  },
  "language_info": {
   "codemirror_mode": {
    "name": "ipython",
    "version": 3
   },
   "file_extension": ".py",
   "mimetype": "text/x-python",
   "name": "python",
   "nbconvert_exporter": "python",
   "pygments_lexer": "ipython3",
   "version": "3.8.2"
  }
 },
 "nbformat": 4,
 "nbformat_minor": 4
}
